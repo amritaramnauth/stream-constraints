{
 "cells": [
  {
   "cell_type": "code",
   "execution_count": 92,
   "metadata": {},
   "outputs": [],
   "source": [
    "import json\n",
    "import random\n",
    "import string\n",
    "import time\n",
    "import uuid"
   ]
  },
  {
   "cell_type": "code",
   "execution_count": 93,
   "metadata": {},
   "outputs": [],
   "source": [
    "# adjust number_of_insurance_quotes = 100, 150, 200, 250 to generate 1000, 1500, 2000, 2500 events, respectively\n",
    "number_of_insurance_quotes = 250\n",
    "insurance_quote_duplicates = 2\n",
    "\n",
    "number_of_policy_updates = 5\n",
    "\n",
    "deleted_policies_duplicates = 1\n",
    "\n",
    "customer_id = \"rgpp0wkpec\""
   ]
  },
  {
   "cell_type": "markdown",
   "metadata": {},
   "source": [
    "# Insurance Quote Requests and Policy Events\n",
    "Generates 1000, 1500, 2000, 2500 events\n",
    "- 100/150/200/250 x InsuranceQuoteRequest events\n",
    "- 2 x duplicate InsuranceQuoteRequest events\n",
    "- 5 x UpdatePolicy events (each policy comes from quote so 100 quotes generated would be 100 policies, etc) \n",
    "- 1 x DeletePolicy event\n",
    "- 1 x duplicate DeletePolicy event\n"
   ]
  },
  {
   "cell_type": "code",
   "execution_count": 94,
   "metadata": {},
   "outputs": [],
   "source": [
    "insurance_quote_ids = []\n",
    "for i in range(number_of_insurance_quotes):\n",
    "    insurance_quote_ids.append(i+1)"
   ]
  },
  {
   "cell_type": "code",
   "execution_count": 95,
   "metadata": {},
   "outputs": [],
   "source": [
    "with open('insurance-quote.json', 'r') as file:\n",
    "    insurance_quote_json = json.loads(file.read())\n",
    "\n",
    "with open('update.json', 'r') as file:\n",
    "    policy_updated_json = json.loads(file.read())\n",
    "\n",
    "with open('delete.json', 'r') as file:\n",
    "    policy_deleted_json = json.loads(file.read())\n",
    "\n",
    "    \n",
    "def jsons_with_id(insurance_quote, policy_updated, policy_deleted, i):\n",
    "    insurance_quote_request_id = insurance_quote_ids[i]\n",
    "    new_insurance_quote_request = insurance_quote.copy()\n",
    "\n",
    "    ts = int(time.time())\n",
    "    \n",
    "    new_insurance_quote_request['insuranceQuoteRequestDto']['id'] = insurance_quote_request_id\n",
    "    new_insurance_quote_request['insuranceQuoteRequestDto']['customerInfo']['customerId'] = customer_id\n",
    "    new_insurance_quote_request['date'] = ts\n",
    "    new_insurance_quote_request['insuranceQuoteRequestDto']['date'] = ts\n",
    "\n",
    "    policy_id =  ''.join(random.choices(string.ascii_lowercase, k=10))\n",
    "\n",
    "    new_policy_updated = policy_updated.copy()\n",
    "    new_policy_updated['policy']['policyId'] = policy_id\n",
    "    new_policy_updated['customer']['customerId'] = customer_id\n",
    "    new_policy_updated['date'] = ts\n",
    "\n",
    "    new_policy_deleted = policy_deleted.copy()\n",
    "    new_policy_deleted['policyId'] = policy_id\n",
    "    new_policy_deleted['date'] = ts\n",
    "\n",
    "    return new_insurance_quote_request, new_policy_updated, new_policy_deleted"
   ]
  },
  {
   "cell_type": "code",
   "execution_count": 96,
   "metadata": {},
   "outputs": [],
   "source": [
    "all_events = []\n",
    "for i in range(number_of_insurance_quotes):\n",
    "    insurance_quote, policy_updated, policy_deleted = jsons_with_id(insurance_quote_json, policy_updated_json, policy_deleted_json, i)\n",
    "    insurance_quotes = [insurance_quote] + [insurance_quote] * insurance_quote_duplicates\n",
    "    policy_updates = [policy_updated] * number_of_policy_updates\n",
    "    policy_deletes = [policy_deleted] + [policy_deleted] * deleted_policies_duplicates\n",
    "    all_events += list(map(lambda x: json.dumps(x), insurance_quotes)) + list(map(lambda x: json.dumps(x), policy_updates)) +  list(map(lambda x: json.dumps(x), policy_deletes))\n",
    "    \n",
    "random.shuffle(all_events)"
   ]
  },
  {
   "cell_type": "code",
   "execution_count": 97,
   "metadata": {},
   "outputs": [],
   "source": [
    "with open('extended-events-2500.txt', 'w') as file:\n",
    "    for event in all_events:\n",
    "        file.write(str(uuid.uuid4()))\n",
    "        file.write(\" \")\n",
    "        event_json = json.loads(event)\n",
    "        event_id =  event_json['policyId'] if 'kind' in event_json and event_json['kind'] == 'DeletePolicyEvent' else event_json['policy']['policyId'] if 'kind' in event_json and event_json['kind'] == 'UpdatePolicyEvent' else event_json['insuranceQuoteRequestDto']['id']\n",
    "        file.write(str(event_id))\n",
    "        file.write(\" \")\n",
    "        file.write(event)\n",
    "        file.write('\\n')"
   ]
  },
  {
   "cell_type": "code",
   "execution_count": 98,
   "metadata": {},
   "outputs": [
    {
     "data": {
      "text/plain": [
       "'{\"kind\": \"UpdatePolicyEvent\", \"originator\": \"PolicyManagementBackend\", \"date\": 1661732908, \"customer\": {\"customerId\": \"rgpp0wkpec\", \"firstname\": \"Max\", \"lastname\": \"Mustermann\", \"birthday\": 631148400000, \"streetAddress\": \"Oberseestrasse 10\", \"postalCode\": \"8640\", \"city\": \"Rapperswil\", \"email\": \"admin@example.com\", \"phoneNumber\": \"055 222 4111\", \"moveHistory\": [], \"links\": [{\"rel\": \"self\", \"href\": \"http://localhost:8110/customers/rgpp0wkpec?fields=\"}, {\"rel\": \"address.change\", \"href\": \"http://localhost:8110/customers/rgpp0wkpec/address\"}]}, \"policy\": {\"policyId\": \"yrqilwcopl\", \"customer\": \"rgpp0wkpec\", \"creationDate\": 1618948272375, \"policyPeriod\": {\"startDate\": 1618956000000, \"endDate\": 1619215200000}, \"policyType\": \"Life Insurance\", \"deductible\": {\"amount\": 100, \"currency\": \"CHF\"}, \"policyLimit\": {\"amount\": 100000, \"currency\": \"CHF\"}, \"insurancePremium\": {\"amount\": 1000, \"currency\": \"CHF\"}, \"insuringAgreement\": {\"agreementItems\": []}, \"links\": [], \"_expandable\": [\"customer\"]}}'"
      ]
     },
     "execution_count": 98,
     "metadata": {},
     "output_type": "execute_result"
    }
   ],
   "source": [
    "all_events[0]"
   ]
  }
 ],
 "metadata": {
  "kernelspec": {
   "display_name": "Python 3.8.10 64-bit",
   "language": "python",
   "name": "python3"
  },
  "language_info": {
   "codemirror_mode": {
    "name": "ipython",
    "version": 3
   },
   "file_extension": ".py",
   "mimetype": "text/x-python",
   "name": "python",
   "nbconvert_exporter": "python",
   "pygments_lexer": "ipython3",
   "version": "3.8.10"
  },
  "vscode": {
   "interpreter": {
    "hash": "916dbcbb3f70747c44a77c7bcd40155683ae19c65e1c03b4aa3499c5328201f1"
   }
  }
 },
 "nbformat": 4,
 "nbformat_minor": 2
}
