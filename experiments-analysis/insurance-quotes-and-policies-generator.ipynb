{
 "cells": [
  {
   "cell_type": "code",
   "execution_count": 1,
   "metadata": {},
   "outputs": [],
   "source": [
    "import json\n",
    "import random\n",
    "import string\n",
    "import time\n",
    "import uuid"
   ]
  },
  {
   "cell_type": "code",
   "execution_count": 2,
   "metadata": {},
   "outputs": [],
   "source": [
    "number_of_insurance_quotes = 100\n",
    "insurance_quote_duplicates = 2\n",
    "\n",
    "number_of_policies = 100\n",
    "number_of_policy_updates = 5\n",
    "\n",
    "customers_number = 10"
   ]
  },
  {
   "cell_type": "markdown",
   "metadata": {},
   "source": [
    "# Insurance Quote Requests and Policy Events\n",
    "Generates:\n",
    "- 100 unique InsuranceQuoteRequest events\n",
    "- 200 duplicate InsuranceQuoteRequest events (2 duplicates per insurance quote)\n",
    "- 100 unique PolicyCreated events (one per insurance quote)\n",
    "- 500 PolicyUpdated events (5 updates per policy). \n"
   ]
  },
  {
   "cell_type": "code",
   "execution_count": 3,
   "metadata": {},
   "outputs": [],
   "source": [
    "customer_ids = []\n",
    "for i in range(customers_number):\n",
    "    customer_ids += [''.join(random.choices(string.ascii_lowercase + string.digits, k=10))]"
   ]
  },
  {
   "cell_type": "code",
   "execution_count": 4,
   "metadata": {},
   "outputs": [],
   "source": [
    "insurance_quote_ids = []\n",
    "for i in range(number_of_insurance_quotes):\n",
    "    insurance_quote_ids.append(i+1)"
   ]
  },
  {
   "cell_type": "code",
   "execution_count": 5,
   "metadata": {},
   "outputs": [],
   "source": [
    "with open('insurance-quote.json', 'r') as file:\n",
    "    insurance_quote_json = json.loads(file.read())\n",
    "\n",
    "with open('policy-created.json', 'r') as file:\n",
    "    policy_created_json = json.loads(file.read())\n",
    "\n",
    "with open('update.json', 'r') as file:\n",
    "    policy_updated_json = json.loads(file.read())\n",
    "    \n",
    "def jsons_with_id(insurance_quote, policy_created, policy_updated, i):\n",
    "    insurance_quote_request_id = insurance_quote_ids[i]\n",
    "    new_insurance_quote_request = insurance_quote.copy()\n",
    "    customer_id = customer_ids[random.randint(0, customers_number - 1)]\n",
    "\n",
    "    ts = int(time.time())\n",
    "    \n",
    "    new_insurance_quote_request['insuranceQuoteRequestDto']['id'] = insurance_quote_request_id\n",
    "    new_insurance_quote_request['insuranceQuoteRequestDto']['customerInfo']['customerId'] = customer_id\n",
    "    new_insurance_quote_request['date'] = ts\n",
    "\n",
    "    new_policy_created = policy_created.copy() \n",
    "    new_policy_created['insuranceQuoteRequestId'] = insurance_quote_request_id\n",
    "    policy_id =  ''.join(random.choices(string.ascii_lowercase, k=10))\n",
    "    new_policy_created['policyId'] = policy_id\n",
    "\n",
    "    new_policy_updated = policy_updated.copy()\n",
    "    new_policy_updated['policy']['policyId'] = policy_id\n",
    "    new_policy_updated['customer']['customerId'] = customer_id\n",
    "    new_policy_updated['date'] = ts\n",
    "\n",
    "    return new_insurance_quote_request, new_policy_created, new_policy_updated"
   ]
  },
  {
   "cell_type": "code",
   "execution_count": 6,
   "metadata": {},
   "outputs": [],
   "source": [
    "all_events = []\n",
    "for i in range(number_of_insurance_quotes):\n",
    "    insurance_quote, policy_created, policy_updated = jsons_with_id(insurance_quote_json, policy_created_json, policy_updated_json, i)\n",
    "    insurance_quotes = [insurance_quote] + [insurance_quote] * insurance_quote_duplicates\n",
    "    policy_created = [policy_created]\n",
    "    policy_updates = [policy_updated] * number_of_policy_updates\n",
    "    all_events += list(map(lambda x: json.dumps(x), insurance_quotes)) + list(map(lambda x: json.dumps(x), policy_created)) +  list(map(lambda x: json.dumps(x), policy_updates))\n",
    "    \n",
    "random.shuffle(all_events)"
   ]
  },
  {
   "cell_type": "code",
   "execution_count": 7,
   "metadata": {},
   "outputs": [],
   "source": [
    "with open('insurance-quote-events.txt', 'w') as file:\n",
    "    for event in all_events:\n",
    "        event_json = json.loads(event)\n",
    "\n",
    "        if 'insuranceQuoteRequestDto' in event_json:\n",
    "            event_id = event_json['insuranceQuoteRequestDto']['id']\n",
    "            file.write(str(uuid.uuid4()))\n",
    "            file.write(\" \")\n",
    "            file.write(str(event_id))\n",
    "            file.write(\" \")\n",
    "            file.write(event)\n",
    "            file.write('\\n')\n",
    "\n",
    "with open('policy-created-events.txt', 'w') as file:\n",
    "    for event in all_events:\n",
    "        event_json = json.loads(event)\n",
    "\n",
    "        if 'policyId' in event_json:\n",
    "            event_id = event_json['policyId']\n",
    "            file.write(str(uuid.uuid4()))\n",
    "            file.write(\" \")\n",
    "            file.write(str(event_id))\n",
    "            file.write(\" \")\n",
    "            file.write(event)\n",
    "            file.write('\\n')\n",
    "\n",
    "with open('policy-updated-events.txt', 'w') as file:\n",
    "    for event in all_events:\n",
    "        event_json = json.loads(event)\n",
    "\n",
    "        if 'policy' in event_json:\n",
    "            event_id = event_json['policy']['policyId']\n",
    "            file.write(str(uuid.uuid4()))\n",
    "            file.write(\" \")\n",
    "            file.write(str(event_id))\n",
    "            file.write(\" \")\n",
    "            file.write(event)\n",
    "            file.write('\\n')"
   ]
  },
  {
   "cell_type": "code",
   "execution_count": 8,
   "metadata": {},
   "outputs": [
    {
     "data": {
      "text/plain": [
       "'{\"kind\": \"UpdatePolicyEvent\", \"originator\": \"PolicyManagementBackend\", \"date\": 1661041150, \"customer\": {\"customerId\": \"nff6ocivon\", \"firstname\": \"Max\", \"lastname\": \"Mustermann\", \"birthday\": 631148400000, \"streetAddress\": \"Oberseestrasse 10\", \"postalCode\": \"8640\", \"city\": \"Rapperswil\", \"email\": \"admin@example.com\", \"phoneNumber\": \"055 222 4111\", \"moveHistory\": [], \"links\": [{\"rel\": \"self\", \"href\": \"http://localhost:8110/customers/rgpp0wkpec?fields=\"}, {\"rel\": \"address.change\", \"href\": \"http://localhost:8110/customers/rgpp0wkpec/address\"}]}, \"policy\": {\"policyId\": \"jredncyqvh\", \"customer\": \"rgpp0wkpec\", \"creationDate\": 1618948272375, \"policyPeriod\": {\"startDate\": 1618956000000, \"endDate\": 1619215200000}, \"policyType\": \"Life Insurance\", \"deductible\": {\"amount\": 100, \"currency\": \"CHF\"}, \"policyLimit\": {\"amount\": 100000, \"currency\": \"CHF\"}, \"insurancePremium\": {\"amount\": 1000, \"currency\": \"CHF\"}, \"insuringAgreement\": {\"agreementItems\": []}, \"links\": [], \"_expandable\": [\"customer\"]}}'"
      ]
     },
     "execution_count": 8,
     "metadata": {},
     "output_type": "execute_result"
    }
   ],
   "source": [
    "all_events[0]"
   ]
  }
 ],
 "metadata": {
  "kernelspec": {
   "display_name": "Python 3.8.10 64-bit",
   "language": "python",
   "name": "python3"
  },
  "language_info": {
   "codemirror_mode": {
    "name": "ipython",
    "version": 3
   },
   "file_extension": ".py",
   "mimetype": "text/x-python",
   "name": "python",
   "nbconvert_exporter": "python",
   "pygments_lexer": "ipython3",
   "version": "3.8.10"
  },
  "vscode": {
   "interpreter": {
    "hash": "916dbcbb3f70747c44a77c7bcd40155683ae19c65e1c03b4aa3499c5328201f1"
   }
  }
 },
 "nbformat": 4,
 "nbformat_minor": 2
}
