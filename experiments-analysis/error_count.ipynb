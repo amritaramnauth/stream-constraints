{
 "cells": [
  {
   "cell_type": "code",
   "execution_count": 274,
   "metadata": {},
   "outputs": [],
   "source": [
    "import json\n",
    "import random\n",
    "import string\n",
    "import time\n",
    "import uuid\n",
    "import numpy as np"
   ]
  },
  {
   "cell_type": "code",
   "execution_count": 275,
   "metadata": {},
   "outputs": [],
   "source": [
    "def create_event_map(filename):\n",
    "    events_list = []\n",
    "    with open(filename, 'r') as file:\n",
    "        for line in file.readlines():\n",
    "            line_split = line.split(\" \")\n",
    "            events_list.append((line_split[1], line_split[2], line_split[3], line_split[4]))\n",
    "    events_list.sort(key=lambda x: x[1])\n",
    "    events_map = {}\n",
    "    for event in events_list:\n",
    "        events_map.setdefault(event[2],[]).append((event[3], event[0], event[1]))\n",
    "    return events_map"
   ]
  },
  {
   "cell_type": "code",
   "execution_count": 299,
   "metadata": {},
   "outputs": [],
   "source": [
    "processed_events = create_event_map('received-events.txt')\n",
    "processed_events_fw = create_event_map('received-events-fw.txt')\n",
    "unprocessed_events = create_event_map('received-events-no-modifications.txt')\n",
    "processed_events_baseline = create_event_map('received-events-baseline.txt')"
   ]
  },
  {
   "cell_type": "code",
   "execution_count": 300,
   "metadata": {},
   "outputs": [
    {
     "data": {
      "text/plain": [
       "905"
      ]
     },
     "execution_count": 300,
     "metadata": {},
     "output_type": "execute_result"
    }
   ],
   "source": [
    "def create_input_event_list(filename):\n",
    "    events_list = []\n",
    "    with open(filename, 'r') as file:\n",
    "        for line in file.readlines():\n",
    "            line_split = line.split(\" \")\n",
    "            events_list.append(line_split[1])\n",
    "    return events_list\n",
    "\n",
    "input_events = create_input_event_list('events.txt')\n",
    "len(set(input_events))"
   ]
  },
  {
   "cell_type": "markdown",
   "metadata": {},
   "source": [
    "# Errors"
   ]
  },
  {
   "cell_type": "code",
   "execution_count": 301,
   "metadata": {},
   "outputs": [],
   "source": [
    "def error_policy(name, policy):\n",
    "    error_types = []\n",
    "    deletes = 0\n",
    "    updates = 0\n",
    "    for event in policy:\n",
    "        if (event[0]=='UpdatePolicyEvent' and deletes>0):\n",
    "            error_types.append('UPDATE_AFTER_DELETE')\n",
    "        if (event[0]=='DeletePolicyEvent'):\n",
    "            if (deletes>0):\n",
    "                error_types.append('DELETE_AFTER_DELETE')\n",
    "            deletes += 1\n",
    "    if deletes == len(policy):\n",
    "        error_types.append('DELETE_WITH_NO_UPDATE')\n",
    "    return (name, error_types)"
   ]
  },
  {
   "cell_type": "code",
   "execution_count": 302,
   "metadata": {},
   "outputs": [],
   "source": [
    "def get_errors(events_dict):\n",
    "    events_errors = []\n",
    "    for key in events_dict:\n",
    "        error = error_policy(key, events_dict[key])\n",
    "        if (len(error[1]) > 0):\n",
    "            events_errors.append(error_policy(key, events_dict[key]))\n",
    "    return events_errors"
   ]
  },
  {
   "cell_type": "code",
   "execution_count": 303,
   "metadata": {},
   "outputs": [],
   "source": [
    "processed_errors = get_errors(processed_events)"
   ]
  },
  {
   "cell_type": "code",
   "execution_count": 304,
   "metadata": {},
   "outputs": [],
   "source": [
    "processed_fw_errors = get_errors(processed_events_fw)"
   ]
  },
  {
   "cell_type": "code",
   "execution_count": 305,
   "metadata": {},
   "outputs": [],
   "source": [
    "unprocessed_errors = get_errors(unprocessed_events)"
   ]
  },
  {
   "cell_type": "code",
   "execution_count": 306,
   "metadata": {},
   "outputs": [],
   "source": [
    "processed_errors_baseline = get_errors(processed_events_baseline)"
   ]
  },
  {
   "cell_type": "code",
   "execution_count": 307,
   "metadata": {},
   "outputs": [],
   "source": [
    "def count_errors(error_list):\n",
    "    print(\"Update after delete errors: \" + str(len(list(filter(lambda x: 'UPDATE_AFTER_DELETE' in x[1], error_list)))))\n",
    "    print(\"Delete after delete errors: \" + str(len(list(filter(lambda x: 'DELETE_AFTER_DELETE' in x[1], error_list)))))\n",
    "    print(\"Delete with no prior update errors: \" + str(len(list(filter(lambda x: 'DELETE_WITH_NO_UPDATE' in x[1], error_list)))))\n",
    "    print(\"Total errors: \" + str(len(error_list)))"
   ]
  },
  {
   "cell_type": "code",
   "execution_count": 308,
   "metadata": {},
   "outputs": [
    {
     "name": "stdout",
     "output_type": "stream",
     "text": [
      "Update after delete errors: 0\n",
      "Delete after delete errors: 0\n",
      "Delete with no prior update errors: 0\n",
      "Total errors: 0\n"
     ]
    }
   ],
   "source": [
    "count_errors(processed_errors)"
   ]
  },
  {
   "cell_type": "code",
   "execution_count": 309,
   "metadata": {},
   "outputs": [
    {
     "name": "stdout",
     "output_type": "stream",
     "text": [
      "Update after delete errors: 0\n",
      "Delete after delete errors: 0\n",
      "Delete with no prior update errors: 0\n",
      "Total errors: 0\n"
     ]
    }
   ],
   "source": [
    "count_errors(processed_fw_errors)"
   ]
  },
  {
   "cell_type": "code",
   "execution_count": 310,
   "metadata": {},
   "outputs": [
    {
     "name": "stdout",
     "output_type": "stream",
     "text": [
      "Update after delete errors: 361\n",
      "Delete after delete errors: 331\n",
      "Delete with no prior update errors: 141\n",
      "Total errors: 554\n"
     ]
    }
   ],
   "source": [
    "count_errors(unprocessed_errors)"
   ]
  },
  {
   "cell_type": "code",
   "execution_count": 311,
   "metadata": {},
   "outputs": [
    {
     "name": "stdout",
     "output_type": "stream",
     "text": [
      "Update after delete errors: 323\n",
      "Delete after delete errors: 253\n",
      "Delete with no prior update errors: 141\n",
      "Total errors: 513\n"
     ]
    }
   ],
   "source": [
    "count_errors(processed_errors_baseline)"
   ]
  },
  {
   "cell_type": "markdown",
   "metadata": {},
   "source": [
    "# Verifying numbers"
   ]
  },
  {
   "cell_type": "code",
   "execution_count": 312,
   "metadata": {},
   "outputs": [
    {
     "data": {
      "text/plain": [
       "906"
      ]
     },
     "execution_count": 312,
     "metadata": {},
     "output_type": "execute_result"
    }
   ],
   "source": [
    "len(list(unprocessed_events.keys())) # number of policy keys generated\n",
    "# it is not equally 1000 as some had generated 0 updates and 0 deletions"
   ]
  },
  {
   "cell_type": "code",
   "execution_count": 313,
   "metadata": {},
   "outputs": [],
   "source": [
    "pure_deleted_keys = []\n",
    "for key in unprocessed_events:\n",
    "    delete_events = list(filter(lambda x: x[0]=='DeletePolicyEvent', unprocessed_events[key]))\n",
    "    if (len(delete_events) == len(unprocessed_events[key])):\n",
    "        pure_deleted_keys.append(key)"
   ]
  },
  {
   "cell_type": "code",
   "execution_count": 314,
   "metadata": {},
   "outputs": [
    {
     "data": {
      "text/plain": [
       "141"
      ]
     },
     "execution_count": 314,
     "metadata": {},
     "output_type": "execute_result"
    }
   ],
   "source": [
    "len(pure_deleted_keys) # number of keys that have ONLY deleted policy events generated"
   ]
  },
  {
   "cell_type": "code",
   "execution_count": 315,
   "metadata": {},
   "outputs": [],
   "source": [
    "deleted_events_buffered = 0\n",
    "for (key, value) in unprocessed_events.items():\n",
    "    if key in pure_deleted_keys:\n",
    "        deleted_events_buffered += len(value)"
   ]
  },
  {
   "cell_type": "code",
   "execution_count": 316,
   "metadata": {},
   "outputs": [
    {
     "data": {
      "text/plain": [
       "212"
      ]
     },
     "execution_count": 316,
     "metadata": {},
     "output_type": "execute_result"
    }
   ],
   "source": [
    "deleted_events_buffered # number of events that are buffered in the State Transformer \n",
    "# because they did not receive any update event"
   ]
  },
  {
   "cell_type": "code",
   "execution_count": 317,
   "metadata": {},
   "outputs": [],
   "source": [
    "#TOTAL GRAPH KEYS: 906 \n",
    "#TOTAL DELETED KEYS: 141 \n",
    "#TOTAL DELETED WINDOW KEYS: 0 "
   ]
  },
  {
   "cell_type": "code",
   "execution_count": 318,
   "metadata": {},
   "outputs": [],
   "source": [
    "#1751 in the received events file + 212 buffered in the State + 551 in the redirect topic"
   ]
  },
  {
   "cell_type": "code",
   "execution_count": 319,
   "metadata": {},
   "outputs": [
    {
     "data": {
      "text/plain": [
       "1751"
      ]
     },
     "execution_count": 319,
     "metadata": {},
     "output_type": "execute_result"
    }
   ],
   "source": [
    "len(create_input_event_list('received-events.txt'))"
   ]
  },
  {
   "cell_type": "code",
   "execution_count": 331,
   "metadata": {},
   "outputs": [
    {
     "data": {
      "text/plain": [
       "1779"
      ]
     },
     "execution_count": 331,
     "metadata": {},
     "output_type": "execute_result"
    }
   ],
   "source": [
    "len(create_input_event_list('received-events-fw.txt'))"
   ]
  },
  {
   "cell_type": "code",
   "execution_count": 332,
   "metadata": {},
   "outputs": [
    {
     "data": {
      "text/plain": [
       "28"
      ]
     },
     "execution_count": 332,
     "metadata": {},
     "output_type": "execute_result"
    }
   ],
   "source": [
    "1779 - 1751"
   ]
  },
  {
   "cell_type": "markdown",
   "metadata": {},
   "source": [
    "# Latency"
   ]
  },
  {
   "cell_type": "code",
   "execution_count": 320,
   "metadata": {},
   "outputs": [],
   "source": [
    "import matplotlib\n",
    "import matplotlib.pyplot as plt\n",
    "import numpy as np\n",
    "from statistics import mean, median, stdev\n",
    "matplotlib.rcParams.update({'font.size': 15})"
   ]
  },
  {
   "cell_type": "code",
   "execution_count": 321,
   "metadata": {},
   "outputs": [],
   "source": [
    "events_latency_listofllists = list(processed_events.values())\n",
    "events_latency = [item for sublist in events_latency_listofllists for item in sublist]\n",
    "\n",
    "diffs = list(map(lambda x: int(x[2]) - int(x[1]), events_latency))"
   ]
  },
  {
   "cell_type": "code",
   "execution_count": 322,
   "metadata": {},
   "outputs": [
    {
     "data": {
      "text/plain": [
       "559.0188463735009"
      ]
     },
     "execution_count": 322,
     "metadata": {},
     "output_type": "execute_result"
    }
   ],
   "source": [
    "mean(diffs)"
   ]
  },
  {
   "cell_type": "code",
   "execution_count": 323,
   "metadata": {},
   "outputs": [
    {
     "data": {
      "text/plain": [
       "147"
      ]
     },
     "execution_count": 323,
     "metadata": {},
     "output_type": "execute_result"
    }
   ],
   "source": [
    "median(diffs)"
   ]
  },
  {
   "cell_type": "code",
   "execution_count": 324,
   "metadata": {},
   "outputs": [
    {
     "data": {
      "text/plain": [
       "788.7120185568621"
      ]
     },
     "execution_count": 324,
     "metadata": {},
     "output_type": "execute_result"
    }
   ],
   "source": [
    "stdev(diffs)"
   ]
  },
  {
   "cell_type": "code",
   "execution_count": 325,
   "metadata": {
    "scrolled": true
   },
   "outputs": [
    {
     "data": {
      "image/png": "[encoded data removed]",
      "text/plain": [
       "<Figure size 504x504 with 1 Axes>"
      ]
     },
     "metadata": {
      "needs_background": "light"
     },
     "output_type": "display_data"
    }
   ],
   "source": [
    "fig = plt.figure(figsize =(7, 7))\n",
    "\n",
    "\n",
    "# Creating plot\n",
    "plt.boxplot(diffs)\n",
    "plt.ylabel(\"Latency [ms]\")\n",
    "plt.xticks([])\n",
    "\n",
    "# show plot\n",
    "plt.show()\n",
    "\n",
    "fig.savefig(\"upde-latency-sc.pdf\")"
   ]
  },
  {
   "cell_type": "code",
   "execution_count": 326,
   "metadata": {},
   "outputs": [],
   "source": [
    "fw_events_latency_listofllists = list(processed_events_fw.values())\n",
    "fw_events_latency = [item for sublist in fw_events_latency_listofllists for item in sublist]\n",
    "fw_diffs = list(map(lambda x: int(x[2]) - int(x[1]), fw_events_latency))"
   ]
  },
  {
   "cell_type": "code",
   "execution_count": 327,
   "metadata": {},
   "outputs": [
    {
     "data": {
      "text/plain": [
       "582.8218100056212"
      ]
     },
     "execution_count": 327,
     "metadata": {},
     "output_type": "execute_result"
    }
   ],
   "source": [
    "mean(fw_diffs)"
   ]
  },
  {
   "cell_type": "code",
   "execution_count": 328,
   "metadata": {},
   "outputs": [
    {
     "data": {
      "text/plain": [
       "108"
      ]
     },
     "execution_count": 328,
     "metadata": {},
     "output_type": "execute_result"
    }
   ],
   "source": [
    "median(fw_diffs)"
   ]
  },
  {
   "cell_type": "code",
   "execution_count": 329,
   "metadata": {},
   "outputs": [
    {
     "data": {
      "image/png": "[encoded data removed]",
      "text/plain": [
       "<Figure size 504x504 with 1 Axes>"
      ]
     },
     "metadata": {
      "needs_background": "light"
     },
     "output_type": "display_data"
    }
   ],
   "source": [
    "fig = plt.figure(figsize =(7, 7))\n",
    "  \n",
    "# Creating plot\n",
    "plt.boxplot([diffs, fw_diffs])\n",
    "plt.ylabel(\"Latency [ms]\")\n",
    "plt.xticks([1, 2], ['Eager Window', 'Lazy Window'])\n",
    "  \n",
    "# show plot\n",
    "plt.show()\n",
    "\n",
    "fig.savefig(\"upde-latency-windows.pdf\")"
   ]
  },
  {
   "cell_type": "code",
   "execution_count": 330,
   "metadata": {
    "scrolled": true
   },
   "outputs": [
    {
     "data": {
      "image/png": "[encoded data removed]",
      "text/plain": [
       "<Figure size 504x504 with 1 Axes>"
      ]
     },
     "metadata": {
      "needs_background": "light"
     },
     "output_type": "display_data"
    }
   ],
   "source": [
    "un_events_latency_listofllists = list(unprocessed_events.values())\n",
    "un_events_latency = [item for sublist in un_events_latency_listofllists for item in sublist]\n",
    "un_diffs = list(map(lambda x: int(x[2]) - int(x[1]), un_events_latency))\n",
    "\n",
    "un_diffs.remove(251)\n",
    "\n",
    "fig = plt.figure(figsize =(7, 7))\n",
    "  \n",
    "# Creating plot\n",
    "plt.boxplot(un_diffs)\n",
    "plt.ylabel(\"Latency [ms]\")\n",
    "plt.xticks([])\n",
    "  \n",
    "# show plot\n",
    "plt.show()\n",
    "\n",
    "fig.savefig(\"upde-latency-default.pdf\")"
   ]
  },
  {
   "cell_type": "code",
   "execution_count": 172,
   "metadata": {},
   "outputs": [
    {
     "data": {
      "text/plain": [
       "5.238758456028651"
      ]
     },
     "execution_count": 172,
     "metadata": {},
     "output_type": "execute_result"
    }
   ],
   "source": [
    "mean(un_diffs)"
   ]
  },
  {
   "cell_type": "code",
   "execution_count": 218,
   "metadata": {},
   "outputs": [
    {
     "data": {
      "text/plain": [
       "5"
      ]
     },
     "execution_count": 218,
     "metadata": {},
     "output_type": "execute_result"
    }
   ],
   "source": [
    "median(un_diffs)"
   ]
  },
  {
   "cell_type": "code",
   "execution_count": 212,
   "metadata": {
    "scrolled": true
   },
   "outputs": [
    {
     "data": {
      "image/png": "[encoded data removed]",
      "text/plain": [
       "<Figure size 504x504 with 1 Axes>"
      ]
     },
     "metadata": {
      "needs_background": "light"
     },
     "output_type": "display_data"
    }
   ],
   "source": [
    "bas_events_latency_listofllists = list(processed_events_baseline.values())\n",
    "bas_events_latency = [item for sublist in bas_events_latency_listofllists for item in sublist]\n",
    "bas_diffs = list(map(lambda x: int(x[2]) - int(x[1]), bas_events_latency))\n",
    "\n",
    "fig = plt.figure(figsize =(7, 7))\n",
    "  \n",
    "# Creating plot\n",
    "plt.boxplot(bas_diffs)\n",
    "plt.ylabel(\"Latency [ms]\")\n",
    "plt.xticks([])\n",
    "  \n",
    "# show plot\n",
    "plt.show()\n",
    "\n",
    "fig.savefig(\"upde-latency-baseline.pdf\")"
   ]
  },
  {
   "cell_type": "code",
   "execution_count": 174,
   "metadata": {},
   "outputs": [
    {
     "data": {
      "text/plain": [
       "722.0431034482758"
      ]
     },
     "execution_count": 174,
     "metadata": {},
     "output_type": "execute_result"
    }
   ],
   "source": [
    "mean(bas_diffs)"
   ]
  },
  {
   "cell_type": "code",
   "execution_count": 217,
   "metadata": {},
   "outputs": [
    {
     "data": {
      "text/plain": [
       "799.5"
      ]
     },
     "execution_count": 217,
     "metadata": {},
     "output_type": "execute_result"
    }
   ],
   "source": [
    "median(bas_diffs)"
   ]
  },
  {
   "cell_type": "code",
   "execution_count": 225,
   "metadata": {},
   "outputs": [
    {
     "data": {
      "text/plain": [
       "250.91676546748414"
      ]
     },
     "execution_count": 225,
     "metadata": {},
     "output_type": "execute_result"
    }
   ],
   "source": [
    "stdev(bas_diffs)"
   ]
  },
  {
   "cell_type": "markdown",
   "metadata": {},
   "source": [
    "# Insurance Expiration"
   ]
  },
  {
   "cell_type": "code",
   "execution_count": 668,
   "metadata": {},
   "outputs": [],
   "source": [
    "def create_insurance_event_map(filename):\n",
    "    events_list = []\n",
    "    with open(filename, 'r') as file:\n",
    "        for line in file.readlines():\n",
    "            line_split = line.split(\" \")\n",
    "            events_list.append((line_split[0], line_split[1], line_split[2], line_split[3].rstrip()))\n",
    "    events_list.sort(key=lambda x: x[2])\n",
    "    events_map = {}\n",
    "    for event in events_list:\n",
    "        events_map.setdefault(event[0],[]).append((event[3], event[1], event[2]))\n",
    "    return events_map"
   ]
  },
  {
   "cell_type": "code",
   "execution_count": 669,
   "metadata": {},
   "outputs": [],
   "source": [
    "def insurance_event_list_length(filename):\n",
    "    events = 0\n",
    "    with open(filename, 'r') as file:\n",
    "        for line in file.readlines():\n",
    "            events = events + 1\n",
    "    return events"
   ]
  },
  {
   "cell_type": "code",
   "execution_count": 670,
   "metadata": {},
   "outputs": [],
   "source": [
    "processed_insurance_events_baseline = create_insurance_event_map('received-insurance-events.txt')"
   ]
  },
  {
   "cell_type": "markdown",
   "metadata": {},
   "source": [
    "# Errors"
   ]
  },
  {
   "cell_type": "markdown",
   "metadata": {},
   "source": [
    "## Baseline"
   ]
  },
  {
   "cell_type": "code",
   "execution_count": 671,
   "metadata": {},
   "outputs": [],
   "source": [
    "def get_insurance_errors(events_dict):\n",
    "    insurance_with_errors = []\n",
    "    for key in events_dict:\n",
    "        if (error_insurance(key, events_dict[key])):\n",
    "            insurance_with_errors.append((key, events_dict[key]))\n",
    "    return insurance_with_errors"
   ]
  },
  {
   "cell_type": "code",
   "execution_count": 672,
   "metadata": {},
   "outputs": [],
   "source": [
    "def error_insurance(name, insurance_events):\n",
    "    if len(insurance_events) > 1 and insurance_events[0][0] == 'InsuranceQuoteExpiredEvent':\n",
    "        return True\n",
    "    else:\n",
    "        return False"
   ]
  },
  {
   "cell_type": "code",
   "execution_count": 673,
   "metadata": {},
   "outputs": [
    {
     "data": {
      "text/plain": [
       "[('56188763',\n",
       "  [('InsuranceQuoteExpiredEvent', '1621786622765', '1621786622918'),\n",
       "   ('PolicyCreatedEvent', '1621786626427', '1621786626918')]),\n",
       " ('94178202',\n",
       "  [('InsuranceQuoteExpiredEvent', '1621786622713', '1621786622918'),\n",
       "   ('PolicyCreatedEvent', '1621786624167', '1621786624936')]),\n",
       " ('92075378',\n",
       "  [('InsuranceQuoteExpiredEvent', '1621786622722', '1621786622919'),\n",
       "   ('PolicyCreatedEvent', '1621786626356', '1621786626920')]),\n",
       " ('32432632',\n",
       "  [('InsuranceQuoteExpiredEvent', '1621786622779', '1621786622919'),\n",
       "   ('PolicyCreatedEvent', '1621786623183', '1621786623924')]),\n",
       " ('79075496',\n",
       "  [('InsuranceQuoteExpiredEvent', '1621786622375', '1621786622920'),\n",
       "   ('PolicyCreatedEvent', '1621786625479', '1621786625923')]),\n",
       " ('79988963',\n",
       "  [('InsuranceQuoteExpiredEvent', '1621786622774', '1621786622920'),\n",
       "   ('PolicyCreatedEvent', '1621786623510', '1621786623924')]),\n",
       " ('15606471',\n",
       "  [('InsuranceQuoteExpiredEvent', '1621786622700', '1621786622920'),\n",
       "   ('PolicyCreatedEvent', '1621786624336', '1621786624938')]),\n",
       " ('21315433',\n",
       "  [('InsuranceQuoteExpiredEvent', '1621786622858', '1621786622921'),\n",
       "   ('PolicyCreatedEvent', '1621786625189', '1621786625947')]),\n",
       " ('71980662',\n",
       "  [('InsuranceQuoteExpiredEvent', '1621786622832', '1621786622921'),\n",
       "   ('PolicyCreatedEvent', '1621786623596', '1621786623953')]),\n",
       " ('95078890',\n",
       "  [('InsuranceQuoteExpiredEvent', '1621786622521', '1621786622921'),\n",
       "   ('PolicyCreatedEvent', '1621786624103', '1621786624922')]),\n",
       " ('25078074',\n",
       "  [('InsuranceQuoteExpiredEvent', '1621786622802', '1621786622922'),\n",
       "   ('PolicyCreatedEvent', '1621786623036', '1621786623926')]),\n",
       " ('57854779',\n",
       "  [('InsuranceQuoteExpiredEvent', '1621786622883', '1621786622922'),\n",
       "   ('PolicyCreatedEvent', '1621786626212', '1621786626925')]),\n",
       " ('16398007',\n",
       "  [('InsuranceQuoteExpiredEvent', '1621786622550', '1621786622922'),\n",
       "   ('PolicyCreatedEvent', '1621786626379', '1621786626925')]),\n",
       " ('26553818',\n",
       "  [('InsuranceQuoteExpiredEvent', '1621786622820', '1621786622922'),\n",
       "   ('PolicyCreatedEvent', '1621786626365', '1621786626925')]),\n",
       " ('97500561',\n",
       "  [('InsuranceQuoteExpiredEvent', '1621786622685', '1621786622923'),\n",
       "   ('PolicyCreatedEvent', '1621786625552', '1621786625925')]),\n",
       " ('12157145',\n",
       "  [('InsuranceQuoteExpiredEvent', '1621786622908', '1621786622923'),\n",
       "   ('PolicyCreatedEvent', '1621786625349', '1621786625925')]),\n",
       " ('69025917',\n",
       "  [('InsuranceQuoteExpiredEvent', '1621786622504', '1621786622923'),\n",
       "   ('PolicyCreatedEvent', '1621786626066', '1621786626926')]),\n",
       " ('17363324',\n",
       "  [('InsuranceQuoteExpiredEvent', '1621786622793', '1621786622924'),\n",
       "   ('PolicyCreatedEvent', '1621786623909', '1621786623927')]),\n",
       " ('31228836',\n",
       "  [('InsuranceQuoteExpiredEvent', '1621786622697', '1621786622924'),\n",
       "   ('PolicyCreatedEvent', '1621786624500', '1621786624942')]),\n",
       " ('49136278',\n",
       "  [('InsuranceQuoteExpiredEvent', '1621786622867', '1621786622924'),\n",
       "   ('PolicyCreatedEvent', '1621786624054', '1621786624923')]),\n",
       " ('93643550',\n",
       "  [('InsuranceQuoteExpiredEvent', '1621786622839', '1621786622925'),\n",
       "   ('PolicyCreatedEvent', '1621786623180', '1621786623956')]),\n",
       " ('31569273',\n",
       "  [('InsuranceQuoteExpiredEvent', '1621786622597', '1621786622925'),\n",
       "   ('PolicyCreatedEvent', '1621786625673', '1621786625928')]),\n",
       " ('99743599',\n",
       "  [('InsuranceQuoteExpiredEvent', '1621786622770', '1621786622925'),\n",
       "   ('PolicyCreatedEvent', '1621786625773', '1621786625952')]),\n",
       " ('28985116',\n",
       "  [('InsuranceQuoteExpiredEvent', '1621786622487', '1621786622926'),\n",
       "   ('PolicyCreatedEvent', '1621786623914', '1621786623957')]),\n",
       " ('13439589',\n",
       "  [('InsuranceQuoteExpiredEvent', '1621786622624', '1621786622926'),\n",
       "   ('PolicyCreatedEvent', '1621786626134', '1621786626930')]),\n",
       " ('66307393',\n",
       "  [('InsuranceQuoteExpiredEvent', '1621786622673', '1621786622926'),\n",
       "   ('PolicyCreatedEvent', '1621786625164', '1621786625952')]),\n",
       " ('99704643',\n",
       "  [('InsuranceQuoteExpiredEvent', '1621786622511', '1621786622927'),\n",
       "   ('PolicyCreatedEvent', '1621786625053', '1621786625952')]),\n",
       " ('86306193',\n",
       "  [('InsuranceQuoteExpiredEvent', '1621786622730', '1621786622927'),\n",
       "   ('PolicyCreatedEvent', '1621786626207', '1621786626930')]),\n",
       " ('30046495',\n",
       "  [('InsuranceQuoteExpiredEvent', '1621786622630', '1621786622928'),\n",
       "   ('PolicyCreatedEvent', '1621786624678', '1621786624925')]),\n",
       " ('46331934',\n",
       "  [('InsuranceQuoteExpiredEvent', '1621786622371', '1621786622928'),\n",
       "   ('PolicyCreatedEvent', '1621786624222', '1621786624946')]),\n",
       " ('47395889',\n",
       "  [('InsuranceQuoteExpiredEvent', '1621786622652', '1621786622928'),\n",
       "   ('PolicyCreatedEvent', '1621786624537', '1621786624946')]),\n",
       " ('62850905',\n",
       "  [('InsuranceQuoteExpiredEvent', '1621786622682', '1621786622929'),\n",
       "   ('PolicyCreatedEvent', '1621786623531', '1621786623935')]),\n",
       " ('57044880',\n",
       "  [('InsuranceQuoteExpiredEvent', '1621786622676', '1621786622929'),\n",
       "   ('PolicyCreatedEvent', '1621786626370', '1621786626934')]),\n",
       " ('55033422',\n",
       "  [('InsuranceQuoteExpiredEvent', '1621786622845', '1621786622929'),\n",
       "   ('PolicyCreatedEvent', '1621786626291', '1621786626934')]),\n",
       " ('72698201',\n",
       "  [('InsuranceQuoteExpiredEvent', '1621786622633', '1621786622929'),\n",
       "   ('PolicyCreatedEvent', '1621786625893', '1621786625933')]),\n",
       " ('33003238',\n",
       "  [('InsuranceQuoteExpiredEvent', '1621786622724', '1621786622930'),\n",
       "   ('PolicyCreatedEvent', '1621786623393', '1621786623961')]),\n",
       " ('57243256',\n",
       "  [('InsuranceQuoteExpiredEvent', '1621786622670', '1621786622930'),\n",
       "   ('PolicyCreatedEvent', '1621786626214', '1621786626934')]),\n",
       " ('27484855',\n",
       "  [('InsuranceQuoteExpiredEvent', '1621786622427', '1621786622930'),\n",
       "   ('PolicyCreatedEvent', '1621786623777', '1621786623962')]),\n",
       " ('74092401',\n",
       "  [('InsuranceQuoteExpiredEvent', '1621786622530', '1621786622930'),\n",
       "   ('PolicyCreatedEvent', '1621786625319', '1621786625957')]),\n",
       " ('47739382',\n",
       "  [('InsuranceQuoteExpiredEvent', '1621786622872', '1621786622931'),\n",
       "   ('PolicyCreatedEvent', '1621786624669', '1621786624948')]),\n",
       " ('69833576',\n",
       "  [('InsuranceQuoteExpiredEvent', '1621786622571', '1621786622932'),\n",
       "   ('PolicyCreatedEvent', '1621786625556', '1621786625958')]),\n",
       " ('93240512',\n",
       "  [('InsuranceQuoteExpiredEvent', '1621786622823', '1621786622933'),\n",
       "   ('PolicyCreatedEvent', '1621786623806', '1621786623944')]),\n",
       " ('25495249',\n",
       "  [('InsuranceQuoteExpiredEvent', '1621786622860', '1621786622933'),\n",
       "   ('PolicyCreatedEvent', '1621786625080', '1621786625959')]),\n",
       " ('82098104',\n",
       "  [('InsuranceQuoteExpiredEvent', '1621786622637', '1621786622933'),\n",
       "   ('PolicyCreatedEvent', '1621786624044', '1621786624950')]),\n",
       " ('58137853',\n",
       "  [('InsuranceQuoteExpiredEvent', '1621786622476', '1621786622936'),\n",
       "   ('PolicyCreatedEvent', '1621786624069', '1621786624951')]),\n",
       " ('31259735',\n",
       "  [('InsuranceQuoteExpiredEvent', '1621786622848', '1621786622936'),\n",
       "   ('PolicyCreatedEvent', '1621786626131', '1621786626939')]),\n",
       " ('48209233',\n",
       "  [('InsuranceQuoteExpiredEvent', '1621786622746', '1621786622936'),\n",
       "   ('PolicyCreatedEvent', '1621786624620', '1621786624951')]),\n",
       " ('74678227',\n",
       "  [('InsuranceQuoteExpiredEvent', '1621786622553', '1621786622937'),\n",
       "   ('PolicyCreatedEvent', '1621786625069', '1621786625962')]),\n",
       " ('48748876',\n",
       "  [('InsuranceQuoteExpiredEvent', '1621786622894', '1621786622938'),\n",
       "   ('PolicyCreatedEvent', '1621786625980', '1621786626941')]),\n",
       " ('43476258',\n",
       "  [('InsuranceQuoteExpiredEvent', '1621786622732', '1621786622938'),\n",
       "   ('PolicyCreatedEvent', '1621786626287', '1621786626941')]),\n",
       " ('91374795',\n",
       "  [('InsuranceQuoteExpiredEvent', '1621786622557', '1621786622938'),\n",
       "   ('PolicyCreatedEvent', '1621786625580', '1621786625942')]),\n",
       " ('40209316',\n",
       "  [('InsuranceQuoteExpiredEvent', '1621786622295', '1621786622938'),\n",
       "   ('PolicyCreatedEvent', '1621786623160', '1621786623949')]),\n",
       " ('91280566',\n",
       "  [('InsuranceQuoteExpiredEvent', '1621786622527', '1621786622939'),\n",
       "   ('PolicyCreatedEvent', '1621786623200', '1621786623949')]),\n",
       " ('37811596',\n",
       "  [('InsuranceQuoteExpiredEvent', '1621786622402', '1621786622939'),\n",
       "   ('PolicyCreatedEvent', '1621786624429', '1621786624953')]),\n",
       " ('46765319',\n",
       "  [('InsuranceQuoteExpiredEvent', '1621786622911', '1621786622939'),\n",
       "   ('PolicyCreatedEvent', '1621786625664', '1621786625964')]),\n",
       " ('99750419',\n",
       "  [('InsuranceQuoteExpiredEvent', '1621786622694', '1621786622939'),\n",
       "   ('PolicyCreatedEvent', '1621786624088', '1621786624954')]),\n",
       " ('12409689',\n",
       "  [('InsuranceQuoteExpiredEvent', '1621786622539', '1621786622939'),\n",
       "   ('PolicyCreatedEvent', '1621786626167', '1621786626943')]),\n",
       " ('36232658',\n",
       "  [('InsuranceQuoteExpiredEvent', '1621786622507', '1621786622940'),\n",
       "   ('PolicyCreatedEvent', '1621786624338', '1621786624955')]),\n",
       " ('97223128',\n",
       "  [('InsuranceQuoteExpiredEvent', '1621786623400', '1621786623923'),\n",
       "   ('PolicyCreatedEvent', '1621786626274', '1621786626920')]),\n",
       " ('23839096',\n",
       "  [('InsuranceQuoteExpiredEvent', '1621786622933', '1621786623923'),\n",
       "   ('PolicyCreatedEvent', '1621786625041', '1621786625923')]),\n",
       " ('22011220',\n",
       "  [('InsuranceQuoteExpiredEvent', '1621786623056', '1621786623924'),\n",
       "   ('PolicyCreatedEvent', '1621786624275', '1621786624920')]),\n",
       " ('36944430',\n",
       "  [('InsuranceQuoteExpiredEvent', '1621786623768', '1621786623924'),\n",
       "   ('PolicyCreatedEvent', '1621786624224', '1621786624920')]),\n",
       " ('88880488',\n",
       "  [('InsuranceQuoteExpiredEvent', '1621786622995', '1621786623924'),\n",
       "   ('PolicyCreatedEvent', '1621786625404', '1621786625923')]),\n",
       " ('70316157',\n",
       "  [('InsuranceQuoteExpiredEvent', '1621786623695', '1621786623926'),\n",
       "   ('PolicyCreatedEvent', '1621786625363', '1621786625924')]),\n",
       " ('68365387',\n",
       "  [('InsuranceQuoteExpiredEvent', '1621786623729', '1621786623927'),\n",
       "   ('PolicyCreatedEvent', '1621786626076', '1621786626925')]),\n",
       " ('62376914',\n",
       "  [('InsuranceQuoteExpiredEvent', '1621786623503', '1621786623927'),\n",
       "   ('PolicyCreatedEvent', '1621786625305', '1621786625926')]),\n",
       " ('40947453',\n",
       "  [('InsuranceQuoteExpiredEvent', '1621786623605', '1621786623930'),\n",
       "   ('PolicyCreatedEvent', '1621786626302', '1621786626928')]),\n",
       " ('22710734',\n",
       "  [('InsuranceQuoteExpiredEvent', '1621786623917', '1621786623930'),\n",
       "   ('PolicyCreatedEvent', '1621786626404', '1621786626928')]),\n",
       " ('91606493',\n",
       "  [('InsuranceQuoteExpiredEvent', '1621786623752', '1621786623931'),\n",
       "   ('PolicyCreatedEvent', '1621786624532', '1621786624924')]),\n",
       " ('88107507',\n",
       "  [('InsuranceQuoteExpiredEvent', '1621786623275', '1621786623931'),\n",
       "   ('PolicyCreatedEvent', '1621786625171', '1621786625930')]),\n",
       " ('31734099',\n",
       "  [('InsuranceQuoteExpiredEvent', '1621786623212', '1621786623933'),\n",
       "   ('PolicyCreatedEvent', '1621786623993', '1621786624925')]),\n",
       " ('72789159',\n",
       "  [('InsuranceQuoteExpiredEvent', '1621786623114', '1621786623938'),\n",
       "   ('PolicyCreatedEvent', '1621786624001', '1621786624926')]),\n",
       " ('69607641',\n",
       "  [('InsuranceQuoteExpiredEvent', '1621786623005', '1621786623939'),\n",
       "   ('PolicyCreatedEvent', '1621786625206', '1621786625932')]),\n",
       " ('41554811',\n",
       "  [('InsuranceQuoteExpiredEvent', '1621786623812', '1621786623939'),\n",
       "   ('PolicyCreatedEvent', '1621786625485', '1621786625932')]),\n",
       " ('75068779',\n",
       "  [('InsuranceQuoteExpiredEvent', '1621786623031', '1621786623940'),\n",
       "   ('PolicyCreatedEvent', '1621786625333', '1621786625933')]),\n",
       " ('48604097',\n",
       "  [('InsuranceQuoteExpiredEvent', '1621786623760', '1621786623941'),\n",
       "   ('PolicyCreatedEvent', '1621786624751', '1621786624928')]),\n",
       " ('87857169',\n",
       "  [('InsuranceQuoteExpiredEvent', '1621786623719', '1621786623941'),\n",
       "   ('PolicyCreatedEvent', '1621786626282', '1621786626935')]),\n",
       " ('74461506',\n",
       "  [('InsuranceQuoteExpiredEvent', '1621786623093', '1621786623942'),\n",
       "   ('PolicyCreatedEvent', '1621786626064', '1621786626936')]),\n",
       " ('42251192',\n",
       "  [('InsuranceQuoteExpiredEvent', '1621786623095', '1621786623943'),\n",
       "   ('PolicyCreatedEvent', '1621786625262', '1621786625935')]),\n",
       " ('32253118',\n",
       "  [('InsuranceQuoteExpiredEvent', '1621786623437', '1621786623944'),\n",
       "   ('PolicyCreatedEvent', '1621786624048', '1621786624930')]),\n",
       " ('72602887',\n",
       "  [('InsuranceQuoteExpiredEvent', '1621786623843', '1621786623944'),\n",
       "   ('PolicyCreatedEvent', '1621786624145', '1621786624930')]),\n",
       " ('98416779',\n",
       "  [('InsuranceQuoteExpiredEvent', '1621786623859', '1621786623944'),\n",
       "   ('PolicyCreatedEvent', '1621786624926', '1621786625937')]),\n",
       " ('43628486',\n",
       "  [('InsuranceQuoteExpiredEvent', '1621786623226', '1621786623945'),\n",
       "   ('PolicyCreatedEvent', '1621786626151', '1621786626938')]),\n",
       " ('95118554',\n",
       "  [('InsuranceQuoteExpiredEvent', '1621786623217', '1621786623946'),\n",
       "   ('PolicyCreatedEvent', '1621786624810', '1621786624930')]),\n",
       " ('67885433',\n",
       "  [('InsuranceQuoteExpiredEvent', '1621786623591', '1621786623946'),\n",
       "   ('PolicyCreatedEvent', '1621786624325', '1621786624931')]),\n",
       " ('84431996',\n",
       "  [('InsuranceQuoteExpiredEvent', '1621786623098', '1621786623946'),\n",
       "   ('PolicyCreatedEvent', '1621786626367', '1621786626939')]),\n",
       " ('54183500',\n",
       "  [('InsuranceQuoteExpiredEvent', '1621786623895', '1621786623946'),\n",
       "   ('PolicyCreatedEvent', '1621786624520', '1621786624931')]),\n",
       " ('40135657',\n",
       "  [('InsuranceQuoteExpiredEvent', '1621786623116', '1621786623947'),\n",
       "   ('PolicyCreatedEvent', '1621786624740', '1621786624931')]),\n",
       " ('85176499',\n",
       "  [('InsuranceQuoteExpiredEvent', '1621786623564', '1621786623948'),\n",
       "   ('PolicyCreatedEvent', '1621786625947', '1621786626940')]),\n",
       " ('87273605',\n",
       "  [('InsuranceQuoteExpiredEvent', '1621786623669', '1621786623948'),\n",
       "   ('PolicyCreatedEvent', '1621786624801', '1621786624933')]),\n",
       " ('50788060',\n",
       "  [('InsuranceQuoteExpiredEvent', '1621786623677', '1621786623950'),\n",
       "   ('PolicyCreatedEvent', '1621786625376', '1621786625943')]),\n",
       " ('82321719',\n",
       "  [('InsuranceQuoteExpiredEvent', '1621786623332', '1621786623950'),\n",
       "   ('PolicyCreatedEvent', '1621786624406', '1621786624934')]),\n",
       " ('22581428',\n",
       "  [('InsuranceQuoteExpiredEvent', '1621786623418', '1621786623950'),\n",
       "   ('PolicyCreatedEvent', '1621786626199', '1621786626943')]),\n",
       " ('59991663',\n",
       "  [('InsuranceQuoteExpiredEvent', '1621786623023', '1621786623951'),\n",
       "   ('PolicyCreatedEvent', '1621786624470', '1621786624935')]),\n",
       " ('52378887',\n",
       "  [('InsuranceQuoteExpiredEvent', '1621786623636', '1621786623952'),\n",
       "   ('PolicyCreatedEvent', '1621786624877', '1621786624938')]),\n",
       " ('22656832',\n",
       "  [('InsuranceQuoteExpiredEvent', '1621786622919', '1621786623952'),\n",
       "   ('PolicyCreatedEvent', '1621786626245', '1621786626921')]),\n",
       " ('41880650',\n",
       "  [('InsuranceQuoteExpiredEvent', '1621786623302', '1621786623953'),\n",
       "   ('PolicyCreatedEvent', '1621786625858', '1621786625947')]),\n",
       " ('37412877',\n",
       "  [('InsuranceQuoteExpiredEvent', '1621786623715', '1621786623953'),\n",
       "   ('PolicyCreatedEvent', '1621786624383', '1621786624939')]),\n",
       " ('32904143',\n",
       "  [('InsuranceQuoteExpiredEvent', '1621786623327', '1621786623953'),\n",
       "   ('PolicyCreatedEvent', '1621786624267', '1621786624939')]),\n",
       " ('11665148',\n",
       "  [('InsuranceQuoteExpiredEvent', '1621786622949', '1621786623954'),\n",
       "   ('PolicyCreatedEvent', '1621786624652', '1621786624940')]),\n",
       " ('11142896',\n",
       "  [('InsuranceQuoteExpiredEvent', '1621786623754', '1621786623954'),\n",
       "   ('PolicyCreatedEvent', '1621786624706', '1621786624941')]),\n",
       " ('13282964',\n",
       "  [('InsuranceQuoteExpiredEvent', '1621786623527', '1621786623954'),\n",
       "   ('PolicyCreatedEvent', '1621786624598', '1621786624941')]),\n",
       " ('45132015',\n",
       "  [('InsuranceQuoteExpiredEvent', '1621786623545', '1621786623955'),\n",
       "   ('PolicyCreatedEvent', '1621786624842', '1621786624941')]),\n",
       " ('80811696',\n",
       "  [('InsuranceQuoteExpiredEvent', '1621786623687', '1621786623955'),\n",
       "   ('PolicyCreatedEvent', '1621786625460', '1621786625949')]),\n",
       " ('91039488',\n",
       "  [('InsuranceQuoteExpiredEvent', '1621786623845', '1621786623955'),\n",
       "   ('PolicyCreatedEvent', '1621786624378', '1621786624941')]),\n",
       " ('19637086',\n",
       "  [('InsuranceQuoteExpiredEvent', '1621786623861', '1621786623956'),\n",
       "   ('PolicyCreatedEvent', '1621786625477', '1621786625950')]),\n",
       " ('70765240',\n",
       "  [('InsuranceQuoteExpiredEvent', '1621786623472', '1621786623956'),\n",
       "   ('PolicyCreatedEvent', '1621786626485', '1621786626928')]),\n",
       " ('90509269',\n",
       "  [('InsuranceQuoteExpiredEvent', '1621786623810', '1621786623957'),\n",
       "   ('PolicyCreatedEvent', '1621786625192', '1621786625952')]),\n",
       " ('75271884',\n",
       "  [('InsuranceQuoteExpiredEvent', '1621786623021', '1621786623957'),\n",
       "   ('PolicyCreatedEvent', '1621786625794', '1621786625952')]),\n",
       " ('23965652',\n",
       "  [('InsuranceQuoteExpiredEvent', '1621786623352', '1621786623958'),\n",
       "   ('PolicyCreatedEvent', '1621786624663', '1621786624944')]),\n",
       " ('60956957',\n",
       "  [('InsuranceQuoteExpiredEvent', '1621786622970', '1621786623958'),\n",
       "   ('PolicyCreatedEvent', '1621786624990', '1621786625953')]),\n",
       " ('63436043',\n",
       "  [('InsuranceQuoteExpiredEvent', '1621786622985', '1621786623959'),\n",
       "   ('PolicyCreatedEvent', '1621786625789', '1621786625954')]),\n",
       " ('23716774',\n",
       "  [('InsuranceQuoteExpiredEvent', '1621786623833', '1621786623959'),\n",
       "   ('PolicyCreatedEvent', '1621786626431', '1621786626932')]),\n",
       " ('59670883',\n",
       "  [('InsuranceQuoteExpiredEvent', '1621786623683', '1621786623960'),\n",
       "   ('PolicyCreatedEvent', '1621786626181', '1621786626933')]),\n",
       " ('30641896',\n",
       "  [('InsuranceQuoteExpiredEvent', '1621786623300', '1621786623963'),\n",
       "   ('PolicyCreatedEvent', '1621786624438', '1621786624949')]),\n",
       " ('74654493',\n",
       "  [('InsuranceQuoteExpiredEvent', '1621786623875', '1621786623964'),\n",
       "   ('PolicyCreatedEvent', '1621786625739', '1621786625960')]),\n",
       " ('96829109',\n",
       "  [('InsuranceQuoteExpiredEvent', '1621786623285', '1621786623964'),\n",
       "   ('PolicyCreatedEvent', '1621786626434', '1621786626938')]),\n",
       " ('98613908',\n",
       "  [('InsuranceQuoteExpiredEvent', '1621786623661', '1621786623964'),\n",
       "   ('PolicyCreatedEvent', '1621786625129', '1621786625961')]),\n",
       " ('95659717',\n",
       "  [('InsuranceQuoteExpiredEvent', '1621786623202', '1621786623965'),\n",
       "   ('PolicyCreatedEvent', '1621786624215', '1621786624951')]),\n",
       " ('79277882',\n",
       "  [('InsuranceQuoteExpiredEvent', '1621786623214', '1621786623965'),\n",
       "   ('PolicyCreatedEvent', '1621786626025', '1621786626939')]),\n",
       " ('56709356',\n",
       "  [('InsuranceQuoteExpiredEvent', '1621786623863', '1621786623966'),\n",
       "   ('PolicyCreatedEvent', '1621786624472', '1621786624951')]),\n",
       " ('74699759',\n",
       "  [('InsuranceQuoteExpiredEvent', '1621786622951', '1621786623966'),\n",
       "   ('PolicyCreatedEvent', '1621786624197', '1621786624952')]),\n",
       " ('94072371',\n",
       "  [('InsuranceQuoteExpiredEvent', '1621786623609', '1621786623967'),\n",
       "   ('PolicyCreatedEvent', '1621786623938', '1621786624952')]),\n",
       " ('37713298',\n",
       "  [('InsuranceQuoteExpiredEvent', '1621786623868', '1621786623967'),\n",
       "   ('PolicyCreatedEvent', '1621786626197', '1621786626941')]),\n",
       " ('62424072',\n",
       "  [('InsuranceQuoteExpiredEvent', '1621786623560', '1621786623967'),\n",
       "   ('PolicyCreatedEvent', '1621786626176', '1621786626941')]),\n",
       " ('18368160',\n",
       "  [('InsuranceQuoteExpiredEvent', '1621786623721', '1621786623967'),\n",
       "   ('PolicyCreatedEvent', '1621786625016', '1621786625963')]),\n",
       " ('31900208',\n",
       "  [('InsuranceQuoteExpiredEvent', '1621786623076', '1621786623968'),\n",
       "   ('PolicyCreatedEvent', '1621786626038', '1621786626943')]),\n",
       " ('95037041',\n",
       "  [('InsuranceQuoteExpiredEvent', '1621786623770', '1621786623968'),\n",
       "   ('PolicyCreatedEvent', '1621786625929', '1621786626943')]),\n",
       " ('88293031',\n",
       "  [('InsuranceQuoteExpiredEvent', '1621786623483', '1621786623969'),\n",
       "   ('PolicyCreatedEvent', '1621786624613', '1621786624954')]),\n",
       " ('85789953',\n",
       "  [('InsuranceQuoteExpiredEvent', '1621786624853', '1621786624920'),\n",
       "   ('PolicyCreatedEvent', '1621786626398', '1621786626922')]),\n",
       " ('95648144',\n",
       "  [('InsuranceQuoteExpiredEvent', '1621786624631', '1621786624920'),\n",
       "   ('PolicyCreatedEvent', '1621786625507', '1621786625923')]),\n",
       " ('89878893',\n",
       "  [('InsuranceQuoteExpiredEvent', '1621786624696', '1621786624921'),\n",
       "   ('PolicyCreatedEvent', '1621786624974', '1621786625924')]),\n",
       " ('33286574',\n",
       "  [('InsuranceQuoteExpiredEvent', '1621786624891', '1621786624922'),\n",
       "   ('PolicyCreatedEvent', '1621786625675', '1621786625925')]),\n",
       " ('96616865',\n",
       "  [('InsuranceQuoteExpiredEvent', '1621786624092', '1621786624922'),\n",
       "   ('PolicyCreatedEvent', '1621786625454', '1621786625925')]),\n",
       " ('85723542',\n",
       "  [('InsuranceQuoteExpiredEvent', '1621786624330', '1621786624923'),\n",
       "   ('PolicyCreatedEvent', '1621786625303', '1621786625928')]),\n",
       " ('68902021',\n",
       "  [('InsuranceQuoteExpiredEvent', '1621786624698', '1621786624924'),\n",
       "   ('PolicyCreatedEvent', '1621786626352', '1621786626929')]),\n",
       " ('26220833',\n",
       "  [('InsuranceQuoteExpiredEvent', '1621786624110', '1621786624924'),\n",
       "   ('PolicyCreatedEvent', '1621786625915', '1621786625930')]),\n",
       " ('95926541',\n",
       "  [('InsuranceQuoteExpiredEvent', '1621786624869', '1621786624925'),\n",
       "   ('PolicyCreatedEvent', '1621786626084', '1621786626931')]),\n",
       " ('92993857',\n",
       "  [('InsuranceQuoteExpiredEvent', '1621786624819', '1621786624925'),\n",
       "   ('PolicyCreatedEvent', '1621786626472', '1621786626932')]),\n",
       " ('39576194',\n",
       "  [('InsuranceQuoteExpiredEvent', '1621786624040', '1621786624925'),\n",
       "   ('PolicyCreatedEvent', '1621786625470', '1621786625931')]),\n",
       " ('27319619',\n",
       "  [('InsuranceQuoteExpiredEvent', '1621786623956', '1621786624926'),\n",
       "   ('PolicyCreatedEvent', '1621786625681', '1621786625931')]),\n",
       " ('22377567',\n",
       "  [('InsuranceQuoteExpiredEvent', '1621786624882', '1621786624927'),\n",
       "   ('PolicyCreatedEvent', '1621786624953', '1621786625933')]),\n",
       " ('57117289',\n",
       "  [('InsuranceQuoteExpiredEvent', '1621786624496', '1621786624927'),\n",
       "   ('PolicyCreatedEvent', '1621786626461', '1621786626934')]),\n",
       " ('80445913',\n",
       "  [('InsuranceQuoteExpiredEvent', '1621786624576', '1621786624928'),\n",
       "   ('PolicyCreatedEvent', '1621786626473', '1621786626934')]),\n",
       " ('41925463',\n",
       "  [('InsuranceQuoteExpiredEvent', '1621786624120', '1621786624929'),\n",
       "   ('PolicyCreatedEvent', '1621786625092', '1621786625934')]),\n",
       " ('97605867',\n",
       "  [('InsuranceQuoteExpiredEvent', '1621786624777', '1621786624929'),\n",
       "   ('PolicyCreatedEvent', '1621786625326', '1621786625935')]),\n",
       " ('31432861',\n",
       "  [('InsuranceQuoteExpiredEvent', '1621786624454', '1621786624929'),\n",
       "   ('PolicyCreatedEvent', '1621786625594', '1621786625936')]),\n",
       " ('62851805',\n",
       "  [('InsuranceQuoteExpiredEvent', '1621786624285', '1621786624930'),\n",
       "   ('PolicyCreatedEvent', '1621786625213', '1621786625937')]),\n",
       " ('40155078',\n",
       "  [('InsuranceQuoteExpiredEvent', '1621786624723', '1621786624932'),\n",
       "   ('PolicyCreatedEvent', '1621786625417', '1621786625941')]),\n",
       " ('78358798',\n",
       "  [('InsuranceQuoteExpiredEvent', '1621786624315', '1621786624932'),\n",
       "   ('PolicyCreatedEvent', '1621786625573', '1621786625941')]),\n",
       " ('21070069',\n",
       "  [('InsuranceQuoteExpiredEvent', '1621786624504', '1621786624933'),\n",
       "   ('PolicyCreatedEvent', '1621786625919', '1621786625942')]),\n",
       " ('95210617',\n",
       "  [('InsuranceQuoteExpiredEvent', '1621786623963', '1621786624934'),\n",
       "   ('PolicyCreatedEvent', '1621786626221', '1621786626943')]),\n",
       " ('13353705',\n",
       "  [('InsuranceQuoteExpiredEvent', '1621786624114', '1621786624938'),\n",
       "   ('PolicyCreatedEvent', '1621786624933', '1621786625946')]),\n",
       " ('32977886',\n",
       "  [('InsuranceQuoteExpiredEvent', '1621786624917', '1621786624938'),\n",
       "   ('PolicyCreatedEvent', '1621786625644', '1621786625947')]),\n",
       " ('28033936',\n",
       "  [('InsuranceQuoteExpiredEvent', '1621786624411', '1621786624939'),\n",
       "   ('PolicyCreatedEvent', '1621786624986', '1621786625947')]),\n",
       " ('46894217',\n",
       "  [('InsuranceQuoteExpiredEvent', '1621786624245', '1621786624939'),\n",
       "   ('PolicyCreatedEvent', '1621786625516', '1621786625948')]),\n",
       " ('88867638',\n",
       "  [('InsuranceQuoteExpiredEvent', '1621786624312', '1621786624942'),\n",
       "   ('PolicyCreatedEvent', '1621786626143', '1621786626927')]),\n",
       " ('14934627',\n",
       "  [('InsuranceQuoteExpiredEvent', '1621786624073', '1621786624942'),\n",
       "   ('PolicyCreatedEvent', '1621786625758', '1621786625951')]),\n",
       " ('94044939',\n",
       "  [('InsuranceQuoteExpiredEvent', '1621786623997', '1621786624943'),\n",
       "   ('PolicyCreatedEvent', '1621786625895', '1621786625951')]),\n",
       " ('26567436',\n",
       "  [('InsuranceQuoteExpiredEvent', '1621786624187', '1621786624943'),\n",
       "   ('PolicyCreatedEvent', '1621786625081', '1621786625951')]),\n",
       " ('85258121',\n",
       "  [('InsuranceQuoteExpiredEvent', '1621786624231', '1621786624943'),\n",
       "   ('PolicyCreatedEvent', '1621786626466', '1621786626929')]),\n",
       " ('11735638',\n",
       "  [('InsuranceQuoteExpiredEvent', '1621786624839', '1621786624946'),\n",
       "   ('PolicyCreatedEvent', '1621786625006', '1621786625955')]),\n",
       " ('20772817',\n",
       "  [('InsuranceQuoteExpiredEvent', '1621786624251', '1621786624946'),\n",
       "   ('PolicyCreatedEvent', '1621786625347', '1621786625955')]),\n",
       " ('21132208',\n",
       "  [('InsuranceQuoteExpiredEvent', '1621786624860', '1621786624946'),\n",
       "   ('PolicyCreatedEvent', '1621786625176', '1621786625955')]),\n",
       " ('57195557',\n",
       "  [('InsuranceQuoteExpiredEvent', '1621786624557', '1621786624949'),\n",
       "   ('PolicyCreatedEvent', '1621786625056', '1621786625959')]),\n",
       " ('84036182',\n",
       "  [('InsuranceQuoteExpiredEvent', '1621786623985', '1621786624950'),\n",
       "   ('PolicyCreatedEvent', '1621786626497', '1621786626937')]),\n",
       " ('60103919',\n",
       "  [('InsuranceQuoteExpiredEvent', '1621786624233', '1621786624951'),\n",
       "   ('PolicyCreatedEvent', '1621786625523', '1621786625961')]),\n",
       " ('78086946',\n",
       "  [('InsuranceQuoteExpiredEvent', '1621786624569', '1621786624951'),\n",
       "   ('PolicyCreatedEvent', '1621786626100', '1621786626939')]),\n",
       " ('76364591',\n",
       "  [('InsuranceQuoteExpiredEvent', '1621786624138', '1621786624952'),\n",
       "   ('PolicyCreatedEvent', '1621786625494', '1621786625963')]),\n",
       " ('79183717',\n",
       "  [('InsuranceQuoteExpiredEvent', '1621786624235', '1621786624954'),\n",
       "   ('PolicyCreatedEvent', '1621786626350', '1621786626943')]),\n",
       " ('55113904',\n",
       "  [('InsuranceQuoteExpiredEvent', '1621786624173', '1621786624955'),\n",
       "   ('PolicyCreatedEvent', '1621786625904', '1621786625965')]),\n",
       " ('38526558',\n",
       "  [('InsuranceQuoteExpiredEvent', '1621786625230', '1621786625923'),\n",
       "   ('PolicyCreatedEvent', '1621786626075', '1621786626921')]),\n",
       " ('35738188',\n",
       "  [('InsuranceQuoteExpiredEvent', '1621786625210', '1621786625926'),\n",
       "   ('PolicyCreatedEvent', '1621786626261', '1621786626927')]),\n",
       " ('95117765',\n",
       "  [('InsuranceQuoteExpiredEvent', '1621786624962', '1621786625926'),\n",
       "   ('PolicyCreatedEvent', '1621786625951', '1621786626927')]),\n",
       " ('19119450',\n",
       "  [('InsuranceQuoteExpiredEvent', '1621786625720', '1621786625927'),\n",
       "   ('PolicyCreatedEvent', '1621786626381', '1621786626927')]),\n",
       " ('14525464',\n",
       "  [('InsuranceQuoteExpiredEvent', '1621786625544', '1621786625930'),\n",
       "   ('PolicyCreatedEvent', '1621786626129', '1621786626931')]),\n",
       " ('76805211',\n",
       "  [('InsuranceQuoteExpiredEvent', '1621786625161', '1621786625931'),\n",
       "   ('PolicyCreatedEvent', '1621786626254', '1621786626932')]),\n",
       " ('92042312',\n",
       "  [('InsuranceQuoteExpiredEvent', '1621786625691', '1621786625935'),\n",
       "   ('PolicyCreatedEvent', '1621786626192', '1621786626936')]),\n",
       " ('41177901',\n",
       "  [('InsuranceQuoteExpiredEvent', '1621786625604', '1621786625937'),\n",
       "   ('PolicyCreatedEvent', '1621786625922', '1621786626937')]),\n",
       " ('67551613',\n",
       "  [('InsuranceQuoteExpiredEvent', '1621786625310', '1621786625939'),\n",
       "   ('PolicyCreatedEvent', '1621786626242', '1621786626939')]),\n",
       " ('31035481',\n",
       "  [('InsuranceQuoteExpiredEvent', '1621786625868', '1621786625939'),\n",
       "   ('PolicyCreatedEvent', '1621786626094', '1621786626939')]),\n",
       " ('53842679',\n",
       "  [('InsuranceQuoteExpiredEvent', '1621786625118', '1621786625943'),\n",
       "   ('PolicyCreatedEvent', '1621786625966', '1621786626942')]),\n",
       " ('78246254',\n",
       "  [('InsuranceQuoteExpiredEvent', '1621786625073', '1621786625943'),\n",
       "   ('PolicyCreatedEvent', '1621786626298', '1621786626942')]),\n",
       " ('80762168',\n",
       "  [('InsuranceQuoteExpiredEvent', '1621786625649', '1621786625944'),\n",
       "   ('PolicyCreatedEvent', '1621786626400', '1621786626943')]),\n",
       " ('15601373',\n",
       "  [('InsuranceQuoteExpiredEvent', '1621786625090', '1621786625947'),\n",
       "   ('PolicyCreatedEvent', '1621786626234', '1621786626923')]),\n",
       " ('82397860',\n",
       "  [('InsuranceQuoteExpiredEvent', '1621786625106', '1621786625948'),\n",
       "   ('PolicyCreatedEvent', '1621786626210', '1621786626925')]),\n",
       " ('99210113',\n",
       "  [('InsuranceQuoteExpiredEvent', '1621786625809', '1621786625949'),\n",
       "   ('PolicyCreatedEvent', '1621786626480', '1621786626926')]),\n",
       " ('35238077',\n",
       "  [('InsuranceQuoteExpiredEvent', '1621786625877', '1621786625952'),\n",
       "   ('PolicyCreatedEvent', '1621786625975', '1621786626930')]),\n",
       " ('10984008',\n",
       "  [('InsuranceQuoteExpiredEvent', '1621786625752', '1621786625955'),\n",
       "   ('PolicyCreatedEvent', '1621786626014', '1621786626933')]),\n",
       " ('37862671',\n",
       "  [('InsuranceQuoteExpiredEvent', '1621786625782', '1621786625959'),\n",
       "   ('PolicyCreatedEvent', '1621786626384', '1621786626937')]),\n",
       " ('64619648',\n",
       "  [('InsuranceQuoteExpiredEvent', '1621786625078', '1621786625960'),\n",
       "   ('PolicyCreatedEvent', '1621786626322', '1621786626938')]),\n",
       " ('67910546',\n",
       "  [('InsuranceQuoteExpiredEvent', '1621786625666', '1621786625962'),\n",
       "   ('PolicyCreatedEvent', '1621786625987', '1621786626940')]),\n",
       " ('11710335',\n",
       "  [('InsuranceQuoteExpiredEvent', '1621786625259', '1621786625964'),\n",
       "   ('PolicyCreatedEvent', '1621786626368', '1621786626942')]),\n",
       " ('45004125',\n",
       "  [('InsuranceQuoteExpiredEvent', '1621786625071', '1621786625965'),\n",
       "   ('PolicyCreatedEvent', '1621786626270', '1621786626944')])]"
      ]
     },
     "execution_count": 673,
     "metadata": {},
     "output_type": "execute_result"
    }
   ],
   "source": [
    "get_insurance_errors(processed_insurance_events_baseline)"
   ]
  },
  {
   "cell_type": "code",
   "execution_count": 674,
   "metadata": {},
   "outputs": [
    {
     "data": {
      "text/plain": [
       "194"
      ]
     },
     "execution_count": 674,
     "metadata": {},
     "output_type": "execute_result"
    }
   ],
   "source": [
    "len(get_insurance_errors(processed_insurance_events_baseline))"
   ]
  },
  {
   "cell_type": "markdown",
   "metadata": {},
   "source": [
    "## Unmodified"
   ]
  },
  {
   "cell_type": "code",
   "execution_count": 675,
   "metadata": {},
   "outputs": [],
   "source": [
    "def create_unmodified_insurance_event_map(filename):\n",
    "    events_list = []\n",
    "    with open(filename, 'r') as file:\n",
    "        for line in file.readlines():\n",
    "            line_split = line.split(\" \")\n",
    "            events_list.append((line_split[1], line_split[7][1:-3]))\n",
    "    events_map = {}\n",
    "    for event in events_list:\n",
    "        events_map.setdefault(event[0],[]).append((event[1]))\n",
    "    return events_map\n"
   ]
  },
  {
   "cell_type": "code",
   "execution_count": 676,
   "metadata": {},
   "outputs": [
    {
     "data": {
      "text/plain": [
       "1530"
      ]
     },
     "execution_count": 676,
     "metadata": {},
     "output_type": "execute_result"
    }
   ],
   "source": [
    "len(list(create_unmodified_insurance_event_map('insurance-events.txt').keys()))\n"
   ]
  },
  {
   "cell_type": "code",
   "execution_count": 677,
   "metadata": {},
   "outputs": [],
   "source": [
    "def get_unmodified_insurance_errors(events_dict):\n",
    "    insurance_with_errors = []\n",
    "    for key in events_dict:\n",
    "        if (error_unmodified_insurance(events_dict[key])):\n",
    "            insurance_with_errors.append((key, events_dict[key]))\n",
    "    return insurance_with_errors\n"
   ]
  },
  {
   "cell_type": "code",
   "execution_count": 678,
   "metadata": {},
   "outputs": [],
   "source": [
    "def error_unmodified_insurance(insurance_events):\n",
    "    if len(insurance_events) > 1 and insurance_events[0] == 'InsuranceQuoteExpiredEvent':\n",
    "        return True\n",
    "    else:\n",
    "        return False\n",
    "    "
   ]
  },
  {
   "cell_type": "code",
   "execution_count": 679,
   "metadata": {},
   "outputs": [
    {
     "data": {
      "text/plain": [
       "240"
      ]
     },
     "execution_count": 679,
     "metadata": {},
     "output_type": "execute_result"
    }
   ],
   "source": [
    "len(get_unmodified_insurance_errors(create_unmodified_insurance_event_map('insurance-events.txt')))\n"
   ]
  },
  {
   "cell_type": "markdown",
   "metadata": {},
   "source": [
    "## Stream Constraints 1 second"
   ]
  },
  {
   "cell_type": "code",
   "execution_count": 680,
   "metadata": {},
   "outputs": [],
   "source": [
    "processed_insurance_events = create_insurance_event_map('received-insurance-events-sc.txt')"
   ]
  },
  {
   "cell_type": "code",
   "execution_count": 681,
   "metadata": {},
   "outputs": [
    {
     "data": {
      "text/plain": [
       "1931"
      ]
     },
     "execution_count": 681,
     "metadata": {},
     "output_type": "execute_result"
    }
   ],
   "source": [
    "insurance_event_list_length('received-insurance-events-sc.txt')"
   ]
  },
  {
   "cell_type": "code",
   "execution_count": 682,
   "metadata": {},
   "outputs": [
    {
     "data": {
      "text/plain": [
       "119"
      ]
     },
     "execution_count": 682,
     "metadata": {},
     "output_type": "execute_result"
    }
   ],
   "source": [
    "len(get_insurance_errors(processed_insurance_events))"
   ]
  },
  {
   "cell_type": "markdown",
   "metadata": {},
   "source": [
    "## Latency"
   ]
  },
  {
   "cell_type": "code",
   "execution_count": 683,
   "metadata": {},
   "outputs": [],
   "source": [
    "insurance_events_latency_listofllists = list(processed_insurance_events.values())\n",
    "insurance_events_latency = [item for sublist in insurance_events_latency_listofllists for item in sublist]\n",
    "\n",
    "insurance_diffs = list(map(lambda x: int(x[2]) - int(x[1]), insurance_events_latency))"
   ]
  },
  {
   "cell_type": "code",
   "execution_count": 684,
   "metadata": {},
   "outputs": [
    {
     "data": {
      "text/plain": [
       "635.7379596064216"
      ]
     },
     "execution_count": 684,
     "metadata": {},
     "output_type": "execute_result"
    }
   ],
   "source": [
    "mean(insurance_diffs)"
   ]
  },
  {
   "cell_type": "code",
   "execution_count": 685,
   "metadata": {},
   "outputs": [
    {
     "data": {
      "text/plain": [
       "4"
      ]
     },
     "execution_count": 685,
     "metadata": {},
     "output_type": "execute_result"
    }
   ],
   "source": [
    "median(insurance_diffs)"
   ]
  },
  {
   "cell_type": "code",
   "execution_count": 686,
   "metadata": {},
   "outputs": [
    {
     "data": {
      "image/png": "[encoded data removed]",
      "text/plain": [
       "<Figure size 504x504 with 1 Axes>"
      ]
     },
     "metadata": {
      "needs_background": "light"
     },
     "output_type": "display_data"
    }
   ],
   "source": [
    "fig = plt.figure(figsize =(7, 7))\n",
    "  \n",
    "# Creating plot\n",
    "plt.hist(insurance_diffs)\n",
    "  \n",
    "# show plot\n",
    "plt.show()"
   ]
  },
  {
   "cell_type": "markdown",
   "metadata": {},
   "source": [
    "## Baseline"
   ]
  },
  {
   "cell_type": "code",
   "execution_count": 687,
   "metadata": {},
   "outputs": [],
   "source": [
    "insurance_events_latency_baseline_listofllists = list(processed_insurance_events_baseline.values())\n",
    "insurance_events_latency_baseline = [item for sublist in insurance_events_latency_baseline_listofllists for item in sublist]\n",
    "\n",
    "insurance_baseline_diffs = list(map(lambda x: int(x[2]) - int(x[1]), insurance_events_latency_baseline))"
   ]
  },
  {
   "cell_type": "code",
   "execution_count": 688,
   "metadata": {},
   "outputs": [
    {
     "data": {
      "text/plain": [
       "517.5612708018155"
      ]
     },
     "execution_count": 688,
     "metadata": {},
     "output_type": "execute_result"
    }
   ],
   "source": [
    "mean(insurance_baseline_diffs)"
   ]
  },
  {
   "cell_type": "code",
   "execution_count": 689,
   "metadata": {},
   "outputs": [
    {
     "data": {
      "text/plain": [
       "519"
      ]
     },
     "execution_count": 689,
     "metadata": {},
     "output_type": "execute_result"
    }
   ],
   "source": [
    "median(insurance_baseline_diffs)"
   ]
  },
  {
   "cell_type": "code",
   "execution_count": 696,
   "metadata": {
    "scrolled": true
   },
   "outputs": [
    {
     "data": {
      "image/png": "[encoded data removed]",
      "text/plain": [
       "<Figure size 504x504 with 1 Axes>"
      ]
     },
     "metadata": {
      "needs_background": "light"
     },
     "output_type": "display_data"
    }
   ],
   "source": [
    "fig = plt.figure(figsize =(7, 7))\n",
    "  \n",
    "plt.hist([insurance_baseline_diffs, insurance_diffs], label=[\"Baseline\", \"Stream Constrains\"], color=[\"#004aad\", \"#ffbd59\"])\n",
    "plt.legend(loc='best')\n",
    "plt.xlabel(\"Latency [ms]\")\n",
    "plt.ylabel(\"Number of events\")\n",
    "plt.show()\n",
    "\n",
    "fig.savefig(\"insurance-latency-comparison.pdf\")"
   ]
  },
  {
   "cell_type": "code",
   "execution_count": 691,
   "metadata": {},
   "outputs": [],
   "source": [
    "def create_insurance_event_map_first(filename):\n",
    "    events_list = []\n",
    "    with open(filename, 'r') as file:\n",
    "        for line in file.readlines():\n",
    "            line_split = line.split(\" \")\n",
    "            events_list.append((line_split[0], line_split[1], line_split[2], line_split[3].rstrip()))\n",
    "            if line_split[0] == '99999999':\n",
    "                break\n",
    "    events_list.sort(key=lambda x: x[2])\n",
    "    events_map = {}\n",
    "    for event in events_list:\n",
    "        events_map.setdefault(event[0],[]).append((event[3], event[1], event[2]))\n",
    "    return events_map"
   ]
  },
  {
   "cell_type": "code",
   "execution_count": 692,
   "metadata": {},
   "outputs": [],
   "source": [
    "processed_insurance_events_first = create_insurance_event_map_first('received-insurance-events-sc.txt')"
   ]
  },
  {
   "cell_type": "code",
   "execution_count": 694,
   "metadata": {},
   "outputs": [],
   "source": [
    "insurance_events_latency_listofllists_first = list(processed_insurance_events_first.values())\n",
    "insurance_events_latency_first = [item for sublist in insurance_events_latency_listofllists_first for item in sublist]\n",
    "\n",
    "insurance_diffs_first = list(map(lambda x: int(x[2]) - int(x[1]), insurance_events_latency_first))"
   ]
  },
  {
   "cell_type": "code",
   "execution_count": 695,
   "metadata": {},
   "outputs": [
    {
     "data": {
      "image/png": "[encoded data removed]",
      "text/plain": [
       "<Figure size 504x504 with 1 Axes>"
      ]
     },
     "metadata": {
      "needs_background": "light"
     },
     "output_type": "display_data"
    }
   ],
   "source": [
    "fig = plt.figure(figsize =(7, 7))\n",
    "  \n",
    "plt.hist([insurance_baseline_diffs, insurance_diffs_first], label=[\"Baseline\", \"Stream Constrains\"], color=[\"#004aad\", \"#ffbd59\"])\n",
    "plt.legend(loc='best')\n",
    "plt.xlabel(\"Latency [ms]\")\n",
    "plt.show()\n",
    "\n",
    "fig.savefig(\"insurance-latency-comparison-first.pdf\")"
   ]
  },
  {
   "cell_type": "code",
   "execution_count": null,
   "metadata": {},
   "outputs": [],
   "source": []
  },
  {
   "cell_type": "markdown",
   "metadata": {},
   "source": [
    "## Stream Constraints 0.5 second"
   ]
  },
  {
   "cell_type": "code",
   "execution_count": 598,
   "metadata": {},
   "outputs": [],
   "source": [
    "processed_insurance_events_500 = create_insurance_event_map('received-insurance-events-sc500.txt')"
   ]
  },
  {
   "cell_type": "code",
   "execution_count": 599,
   "metadata": {},
   "outputs": [
    {
     "data": {
      "text/plain": [
       "1978"
      ]
     },
     "execution_count": 599,
     "metadata": {},
     "output_type": "execute_result"
    }
   ],
   "source": [
    "insurance_event_list_length('received-insurance-events-sc500.txt')"
   ]
  },
  {
   "cell_type": "code",
   "execution_count": 600,
   "metadata": {},
   "outputs": [
    {
     "data": {
      "text/plain": [
       "179"
      ]
     },
     "execution_count": 600,
     "metadata": {},
     "output_type": "execute_result"
    }
   ],
   "source": [
    "len(get_insurance_errors(processed_insurance_events_500))"
   ]
  },
  {
   "cell_type": "code",
   "execution_count": 601,
   "metadata": {},
   "outputs": [],
   "source": [
    "insurance_events_latency_listofllists_500 = list(processed_insurance_events_500.values())\n",
    "insurance_events_latency_500 = [item for sublist in insurance_events_latency_listofllists_500 for item in sublist]\n",
    "\n",
    "insurance_diffs_500 = list(map(lambda x: int(x[2]) - int(x[1]), insurance_events_latency_500))"
   ]
  },
  {
   "cell_type": "code",
   "execution_count": 602,
   "metadata": {},
   "outputs": [
    {
     "data": {
      "text/plain": [
       "330.1865520728008"
      ]
     },
     "execution_count": 602,
     "metadata": {},
     "output_type": "execute_result"
    }
   ],
   "source": [
    "mean(insurance_diffs_500)"
   ]
  },
  {
   "cell_type": "code",
   "execution_count": 603,
   "metadata": {},
   "outputs": [
    {
     "data": {
      "text/plain": [
       "6.0"
      ]
     },
     "execution_count": 603,
     "metadata": {},
     "output_type": "execute_result"
    }
   ],
   "source": [
    "median(insurance_diffs_500)"
   ]
  },
  {
   "cell_type": "markdown",
   "metadata": {},
   "source": [
    "## Stream Constraints 1.5 second"
   ]
  },
  {
   "cell_type": "code",
   "execution_count": 604,
   "metadata": {},
   "outputs": [],
   "source": [
    "processed_insurance_events_1500 = create_insurance_event_map('received-insurance-events-sc1500.txt')"
   ]
  },
  {
   "cell_type": "code",
   "execution_count": 605,
   "metadata": {},
   "outputs": [
    {
     "data": {
      "text/plain": [
       "1886"
      ]
     },
     "execution_count": 605,
     "metadata": {},
     "output_type": "execute_result"
    }
   ],
   "source": [
    "insurance_event_list_length('received-insurance-events-sc1500.txt')"
   ]
  },
  {
   "cell_type": "code",
   "execution_count": 606,
   "metadata": {},
   "outputs": [
    {
     "data": {
      "text/plain": [
       "80"
      ]
     },
     "execution_count": 606,
     "metadata": {},
     "output_type": "execute_result"
    }
   ],
   "source": [
    "len(get_insurance_errors(processed_insurance_events_1500))"
   ]
  },
  {
   "cell_type": "code",
   "execution_count": 607,
   "metadata": {},
   "outputs": [],
   "source": [
    "insurance_events_latency_listofllists_1500 = list(processed_insurance_events_1500.values())\n",
    "insurance_events_latency_1500 = [item for sublist in insurance_events_latency_listofllists_1500 for item in sublist]\n",
    "\n",
    "insurance_diffs_1500 = list(map(lambda x: int(x[2]) - int(x[1]), insurance_events_latency_1500))"
   ]
  },
  {
   "cell_type": "code",
   "execution_count": 608,
   "metadata": {},
   "outputs": [
    {
     "data": {
      "text/plain": [
       "948.5265111346765"
      ]
     },
     "execution_count": 608,
     "metadata": {},
     "output_type": "execute_result"
    }
   ],
   "source": [
    "mean(insurance_diffs_1500)"
   ]
  },
  {
   "cell_type": "code",
   "execution_count": 609,
   "metadata": {},
   "outputs": [
    {
     "data": {
      "text/plain": [
       "3.0"
      ]
     },
     "execution_count": 609,
     "metadata": {},
     "output_type": "execute_result"
    }
   ],
   "source": [
    "median(insurance_diffs_1500)"
   ]
  },
  {
   "cell_type": "markdown",
   "metadata": {},
   "source": [
    "## Stream Constraints 2 seconds"
   ]
  },
  {
   "cell_type": "code",
   "execution_count": 610,
   "metadata": {},
   "outputs": [],
   "source": [
    "processed_insurance_events_2000 = create_insurance_event_map('received-insurance-events-sc2000.txt')"
   ]
  },
  {
   "cell_type": "code",
   "execution_count": 611,
   "metadata": {},
   "outputs": [
    {
     "data": {
      "text/plain": [
       "1860"
      ]
     },
     "execution_count": 611,
     "metadata": {},
     "output_type": "execute_result"
    }
   ],
   "source": [
    "insurance_event_list_length('received-insurance-events-sc2000.txt')"
   ]
  },
  {
   "cell_type": "code",
   "execution_count": 612,
   "metadata": {},
   "outputs": [
    {
     "data": {
      "text/plain": [
       "53"
      ]
     },
     "execution_count": 612,
     "metadata": {},
     "output_type": "execute_result"
    }
   ],
   "source": [
    "len(get_insurance_errors(processed_insurance_events_2000))"
   ]
  },
  {
   "cell_type": "code",
   "execution_count": 613,
   "metadata": {},
   "outputs": [],
   "source": [
    "insurance_events_latency_listofllists_2000 = list(processed_insurance_events_2000.values())\n",
    "insurance_events_latency_2000 = [item for sublist in insurance_events_latency_listofllists_2000 for item in sublist]\n",
    "\n",
    "insurance_diffs_2000 = list(map(lambda x: int(x[2]) - int(x[1]), insurance_events_latency_2000))"
   ]
  },
  {
   "cell_type": "code",
   "execution_count": 614,
   "metadata": {},
   "outputs": [
    {
     "data": {
      "text/plain": [
       "1312.1494623655915"
      ]
     },
     "execution_count": 614,
     "metadata": {},
     "output_type": "execute_result"
    }
   ],
   "source": [
    "mean(insurance_diffs_2000)"
   ]
  },
  {
   "cell_type": "code",
   "execution_count": 615,
   "metadata": {},
   "outputs": [
    {
     "data": {
      "text/plain": [
       "3.0"
      ]
     },
     "execution_count": 615,
     "metadata": {},
     "output_type": "execute_result"
    }
   ],
   "source": [
    "median(insurance_diffs_2000)"
   ]
  },
  {
   "cell_type": "code",
   "execution_count": 698,
   "metadata": {},
   "outputs": [
    {
     "data": {
      "image/png": "[encoded data removed]",
      "text/plain": [
       "<Figure size 504x504 with 2 Axes>"
      ]
     },
     "metadata": {
      "needs_background": "light"
     },
     "output_type": "display_data"
    }
   ],
   "source": [
    "fig, ax1 = plt.subplots(figsize=(7,7))\n",
    "\n",
    "t = [500, 1000, 1500, 2000]\n",
    "means = [mean(insurance_diffs_500), mean(insurance_diffs), mean(insurance_diffs_1500), mean(insurance_diffs_2000)]\n",
    "errors = [len(get_insurance_errors(processed_insurance_events_500)), len(get_insurance_errors(processed_insurance_events)), len(get_insurance_errors(processed_insurance_events_1500)), len(get_insurance_errors(processed_insurance_events_2000))]\n",
    "x_axis = [500, 1000, 1500, 2000]\n",
    "\n",
    "ax1.set_xlabel('Window size [ms]')\n",
    "ax1.set_ylabel('Latency [ms]', color='#ff1616')\n",
    "ax1.plot(t, means, color='#ff1616', marker='o')\n",
    "ax1.tick_params(axis='y', labelcolor='#ff1616')\n",
    "ax1.set_xticks(x_axis)\n",
    "\n",
    "ax2 = ax1.twinx()\n",
    "\n",
    "ax2.set_ylabel('Number of errors', color='#004aad')\n",
    "ax2.bar(t, errors, color='#004aad', width=200)\n",
    "ax2.tick_params(axis='y', labelcolor='#004aad')\n",
    "\n",
    "\n",
    "ax1.set_zorder(10)\n",
    "ax1.patch.set_visible(False) \n",
    "\n",
    "plt.show()\n",
    "\n",
    "\n",
    "fig.savefig(\"insur-window-sizes.pdf\")"
   ]
  },
  {
   "cell_type": "code",
   "execution_count": null,
   "metadata": {},
   "outputs": [],
   "source": []
  }
 ],
 "metadata": {
  "kernelspec": {
   "display_name": "Python 3",
   "language": "python",
   "name": "python3"
  },
  "language_info": {
   "codemirror_mode": {
    "name": "ipython",
    "version": 3
   },
   "file_extension": ".py",
   "mimetype": "text/x-python",
   "name": "python",
   "nbconvert_exporter": "python",
   "pygments_lexer": "ipython3",
   "version": "3.7.4"
  }
 },
 "nbformat": 4,
 "nbformat_minor": 4
}
