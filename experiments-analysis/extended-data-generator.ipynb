{
 "cells": [
  {
   "cell_type": "code",
   "execution_count": 9,
   "metadata": {},
   "outputs": [],
   "source": [
    "import json\n",
    "import random\n",
    "import string\n",
    "import time\n",
    "import uuid"
   ]
  },
  {
   "cell_type": "code",
   "execution_count": 10,
   "metadata": {},
   "outputs": [],
   "source": [
    "min_insurance_quote_duplicates = 0\n",
    "max_insurance_quote_duplicates = 2\n",
    "\n",
    "min_customer_decision_duplicates = 0\n",
    "max_customer_decision_duplicates = 2\n",
    "\n",
    "customers_number = 10\n",
    "number_of_insurances = 200\n",
    "insurance_quotes_number = 100\n",
    "\n",
    "customer_id = \"rgpp0wkpec\""
   ]
  },
  {
   "cell_type": "markdown",
   "metadata": {},
   "source": [
    "# Insurance Quotes and Customer Decision Events"
   ]
  },
  {
   "cell_type": "code",
   "execution_count": 11,
   "metadata": {},
   "outputs": [],
   "source": [
    "customer_ids = []\n",
    "for i in range(customers_number):\n",
    "    customer_ids += [''.join(random.choices(string.ascii_lowercase + string.digits, k=10))]"
   ]
  },
  {
   "cell_type": "code",
   "execution_count": 12,
   "metadata": {},
   "outputs": [],
   "source": [
    "insurance_quote_ids = []\n",
    "for i in range(insurance_quotes_number):\n",
    "    insurance_quote_ids.append(i)"
   ]
  },
  {
   "cell_type": "code",
   "execution_count": 13,
   "metadata": {},
   "outputs": [],
   "source": [
    "with open('insurance-quote.json', 'r') as file:\n",
    "    insurance_quote_json = json.loads(file.read())\n",
    "\n",
    "with open('insurance-quote-response.json', 'r') as file:\n",
    "    insurance_quote_response_json = json.loads(file.read())\n",
    "\n",
    "with open('customer-decision.json', 'r') as file:\n",
    "    customer_decision_json = json.loads(file.read())\n",
    "    \n",
    "def jsons_with_id(insurance_quote, insurance_quote_response, customer_decision):\n",
    "    insurance_quote_request_id = insurance_quote_ids[random.randint(0, insurance_quotes_number - 1)]\n",
    "    new_insurance_quote_request = insurance_quote.copy()\n",
    "    new_insurance_quote_response = insurance_quote_response.copy()\n",
    "    new_customer_decision_request = customer_decision.copy()\n",
    "    ts = int(time.time())\n",
    "    \n",
    "    new_insurance_quote_request['insuranceQuoteRequestDto']['id'] = insurance_quote_request_id\n",
    "    new_insurance_quote_request['insuranceQuoteRequestDto']['customerInfo']['customerId'] = customer_id\n",
    "    new_insurance_quote_request['date'] = ts\n",
    "\n",
    "    new_insurance_quote_response['insuranceQuoteRequestId'] = insurance_quote_request_id\n",
    "    new_insurance_quote_response['date'] = ts\n",
    "\n",
    "    new_customer_decision_request['insuranceQuoteRequestId'] = insurance_quote_request_id\n",
    "    new_customer_decision_request['date'] = ts\n",
    "\n",
    "    return new_insurance_quote_request, new_insurance_quote_response, new_customer_decision_request"
   ]
  },
  {
   "cell_type": "code",
   "execution_count": 14,
   "metadata": {},
   "outputs": [],
   "source": [
    "all_events = []\n",
    "for i in range(number_of_insurances):\n",
    "    insurance_quote, insurance_quote_response, customer_decision = jsons_with_id(insurance_quote_json, insurance_quote_response_json, customer_decision_json)\n",
    "    insurance_quotes = [insurance_quote] *  random.randint(min_insurance_quote_duplicates, max_insurance_quote_duplicates)\n",
    "    insurance_quote_responses = [insurance_quote_response] *  random.randint(min_insurance_quote_duplicates, max_insurance_quote_duplicates)\n",
    "    customer_decisions = [customer_decision] * random.randint(min_customer_decision_duplicates, max_customer_decision_duplicates)\n",
    "    all_events += list(map(lambda x: json.dumps(x), insurance_quotes)) + list(map(lambda x: json.dumps(x), insurance_quote_responses)) + list(map(lambda x: json.dumps(x), customer_decisions))\n",
    "\n",
    "random.shuffle(all_events)"
   ]
  },
  {
   "cell_type": "code",
   "execution_count": 15,
   "metadata": {},
   "outputs": [],
   "source": [
    "with open('insurance-quote-and-decision-events.txt', 'w') as file:\n",
    "    for event in all_events:\n",
    "        file.write(str(uuid.uuid4()))\n",
    "        file.write(\" \")\n",
    "        event_json = json.loads(event)\n",
    "        insurance_quote_id =  event_json['insuranceQuoteRequestId'] if 'insuranceQuoteRequestId' in event_json else event_json['insuranceQuoteRequestDto']['id'] \n",
    "        file.write(str(insurance_quote_id))\n",
    "        file.write(\" \")\n",
    "        file.write(event)\n",
    "        file.write('\\n')"
   ]
  },
  {
   "cell_type": "code",
   "execution_count": 16,
   "metadata": {},
   "outputs": [
    {
     "data": {
      "text/plain": [
       "'{\"date\": 1660693863, \"insuranceQuoteRequestId\": 23, \"requestAccepted\": true, \"expirationDate\": 1694663940000, \"insurancePremium\": {\"amount\": 1500, \"currency\": \"CHF\"}, \"policyLimit\": {\"amount\": 100, \"currency\": \"CHF\"}, \"$type\": \"InsuranceQuoteResponseEvent\"}'"
      ]
     },
     "execution_count": 16,
     "metadata": {},
     "output_type": "execute_result"
    }
   ],
   "source": [
    "all_events[0]"
   ]
  }
 ],
 "metadata": {
  "kernelspec": {
   "display_name": "Python 3.8.10 64-bit",
   "language": "python",
   "name": "python3"
  },
  "language_info": {
   "codemirror_mode": {
    "name": "ipython",
    "version": 3
   },
   "file_extension": ".py",
   "mimetype": "text/x-python",
   "name": "python",
   "nbconvert_exporter": "python",
   "pygments_lexer": "ipython3",
   "version": "3.8.10"
  },
  "vscode": {
   "interpreter": {
    "hash": "916dbcbb3f70747c44a77c7bcd40155683ae19c65e1c03b4aa3499c5328201f1"
   }
  }
 },
 "nbformat": 4,
 "nbformat_minor": 2
}
