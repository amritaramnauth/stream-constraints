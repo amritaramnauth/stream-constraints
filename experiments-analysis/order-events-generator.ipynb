{
 "cells": [
  {
   "cell_type": "code",
   "execution_count": 1,
   "metadata": {},
   "outputs": [],
   "source": [
    "import json\n",
    "import random\n",
    "import string\n",
    "import time\n",
    "import uuid"
   ]
  },
  {
   "cell_type": "code",
   "execution_count": 2,
   "metadata": {},
   "outputs": [],
   "source": [
    "order_json = {\"key\": 123, \"date\": 1621422717, \"customerId\": \"zuzqsziivh\", \"action\": \"CREATED\"}\n",
    "\n",
    "number_of_orders = 100\n",
    "order_duplicates = 2\n",
    "order_updates = 5\n",
    "customers_number = 10"
   ]
  },
  {
   "cell_type": "markdown",
   "metadata": {},
   "source": [
    "# Order Events (for controlled tests)\n",
    "Generates:\n",
    "- 100 unique OrderCreated events\n",
    "- 200 duplicate OrderCreated events (2 duplicates per order)\n",
    "- 100 unique OrderDeleted events (one per order)\n",
    "- 500 OrderUpdated events (5 updates per order). \n"
   ]
  },
  {
   "cell_type": "code",
   "execution_count": 3,
   "metadata": {},
   "outputs": [],
   "source": [
    "customer_ids = []\n",
    "for i in range(customers_number):\n",
    "    customer_ids += [''.join(random.choices(string.ascii_lowercase + string.digits, k=10))]"
   ]
  },
  {
   "cell_type": "code",
   "execution_count": 4,
   "metadata": {},
   "outputs": [],
   "source": [
    "order_ids = []\n",
    "for i in range(number_of_orders):\n",
    "    order_ids.append(i+1)"
   ]
  },
  {
   "cell_type": "code",
   "execution_count": 5,
   "metadata": {},
   "outputs": [],
   "source": [
    "def jsons_with_id(id):\n",
    "    order = order_json.copy()\n",
    "    order_update = order_json.copy()\n",
    "    order_delete = order_json.copy()\n",
    "\n",
    "    customer_id = customer_ids[random.randint(0, customers_number - 1)]\n",
    "    ts = int(time.time())\n",
    "\n",
    "    order['key'] = id\n",
    "    order['date'] = ts\n",
    "    order['customerId'] = customer_id\n",
    "    order['action'] = \"CREATED\"\n",
    "\n",
    "    order_update['key'] = id\n",
    "    order_update['date'] = ts\n",
    "    order_update['customerId'] = customer_id\n",
    "    order_update['action'] = \"UPDATED\"\n",
    "\n",
    "    order_delete['key'] = id\n",
    "    order_delete['date'] = ts\n",
    "    order_delete['customerId'] = customer_id\n",
    "    order_delete['action'] = \"DELETED\"\n",
    "\n",
    "    return order, order_update, order_delete"
   ]
  },
  {
   "cell_type": "code",
   "execution_count": 6,
   "metadata": {},
   "outputs": [],
   "source": [
    "all_events = []\n",
    "for i in range(number_of_orders):\n",
    "    order_created, order_updated, order_deleted = jsons_with_id(i)\n",
    "    orders = [order_created] + [order_created] * order_duplicates\n",
    "    deleted_orders = [order_deleted]\n",
    "    updated_orders = [order_updated] * order_updates\n",
    "    all_events += list(map(lambda x: json.dumps(x), orders)) + list(map(lambda x: json.dumps(x), deleted_orders)) +  list(map(lambda x: json.dumps(x), updated_orders))\n",
    "    \n",
    "random.shuffle(all_events)"
   ]
  },
  {
   "cell_type": "code",
   "execution_count": 7,
   "metadata": {},
   "outputs": [],
   "source": [
    "with open('order-events.txt', 'w') as file:\n",
    "    for event in all_events:\n",
    "        file.write(str(uuid.uuid4()))\n",
    "        file.write(\" \")\n",
    "        event_json = json.loads(event)\n",
    "        event_id = event_json['key']\n",
    "        file.write(str(event_id))\n",
    "        file.write(\" \")\n",
    "        file.write(event)\n",
    "        file.write('\\n')"
   ]
  },
  {
   "cell_type": "code",
   "execution_count": 8,
   "metadata": {},
   "outputs": [
    {
     "data": {
      "text/plain": [
       "'{\"key\": 93, \"date\": 1660837346, \"customerId\": \"ep2h617124\", \"action\": \"UPDATED\"}'"
      ]
     },
     "execution_count": 8,
     "metadata": {},
     "output_type": "execute_result"
    }
   ],
   "source": [
    "all_events[0]"
   ]
  }
 ],
 "metadata": {
  "kernelspec": {
   "display_name": "Python 3.8.10 64-bit",
   "language": "python",
   "name": "python3"
  },
  "language_info": {
   "codemirror_mode": {
    "name": "ipython",
    "version": 3
   },
   "file_extension": ".py",
   "mimetype": "text/x-python",
   "name": "python",
   "nbconvert_exporter": "python",
   "pygments_lexer": "ipython3",
   "version": "3.8.10"
  },
  "vscode": {
   "interpreter": {
    "hash": "916dbcbb3f70747c44a77c7bcd40155683ae19c65e1c03b4aa3499c5328201f1"
   }
  }
 },
 "nbformat": 4,
 "nbformat_minor": 2
}
