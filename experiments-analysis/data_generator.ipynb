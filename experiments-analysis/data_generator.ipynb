{
 "cells": [
  {
   "cell_type": "code",
   "execution_count": 5,
   "metadata": {},
   "outputs": [],
   "source": [
    "import json\n",
    "import random\n",
    "import string\n",
    "import time\n",
    "import uuid"
   ]
  },
  {
   "cell_type": "markdown",
   "metadata": {},
   "source": [
    "# Policy Updates and Deletions"
   ]
  },
  {
   "cell_type": "code",
   "execution_count": 3,
   "metadata": {},
   "outputs": [],
   "source": [
    "with open('update.json', 'r') as file:\n",
    "    update_json = json.loads(file.read())\n",
    "\n",
    "\n",
    "with open('delete.json', 'r') as file:\n",
    "    delete_json = json.loads(file.read())\n",
    "\n",
    "\n",
    "def jsons_with_id(update, delete):\n",
    "    j_id =  ''.join(random.choices(string.ascii_lowercase, k=10))\n",
    "    customer_id = customer_ids[random.randint(0, customers_number - 1)]\n",
    "    new_update = update.copy()\n",
    "    new_delete = delete.copy()\n",
    "    ts = int(time.time())\n",
    "    \n",
    "    new_update['policy']['policyId'] = j_id\n",
    "    new_update['customer']['customerId'] = customer_id\n",
    "    new_delete['policyId'] = j_id\n",
    "    new_update['date'] = ts\n",
    "    new_delete['date'] = ts\n",
    "\n",
    "    return new_update, new_delete"
   ]
  },
  {
   "cell_type": "code",
   "execution_count": 8,
   "metadata": {},
   "outputs": [],
   "source": [
    "min_updates = 0\n",
    "min_deletes = 0\n",
    "max_deletes = 2\n",
    "max_updates = 3\n",
    "number_of_policies = 1000\n",
    "customers_number = 10"
   ]
  },
  {
   "cell_type": "code",
   "execution_count": 9,
   "metadata": {},
   "outputs": [],
   "source": [
    "customer_ids = []\n",
    "for i in range(customers_number):\n",
    "    customer_ids += [''.join(random.choices(string.ascii_lowercase + string.digits, k=10))]"
   ]
  },
  {
   "cell_type": "code",
   "execution_count": 10,
   "metadata": {},
   "outputs": [],
   "source": [
    "all_events = []\n",
    "for i in range(number_of_policies):\n",
    "    current_update, current_delete = jsons_with_id(update_json, delete_json)\n",
    "    current_updates = [current_update] * random.randint(min_updates, max_updates)\n",
    "    current_deletes = [current_delete] * random.randint(min_deletes, max_deletes)\n",
    "    all_events += list(map(lambda x: json.dumps(x), current_updates)) + list(map(lambda x: json.dumps(x), current_deletes))\n",
    "\n",
    "random.shuffle(all_events)"
   ]
  },
  {
   "cell_type": "code",
   "execution_count": 11,
   "metadata": {},
   "outputs": [],
   "source": [
    "with open('events.txt', 'w') as file:\n",
    "    for event in all_events:\n",
    "        file.write(str(uuid.uuid4()))\n",
    "        file.write(\" \")\n",
    "        event_json = json.loads(event)\n",
    "        policy_id =  event_json['policyId'] if event_json['kind'] == 'DeletePolicyEvent' else event_json['policy']['policyId']\n",
    "        file.write(policy_id)\n",
    "        file.write(\" \")\n",
    "        file.write(event)\n",
    "        file.write('\\n')"
   ]
  },
  {
   "cell_type": "code",
   "execution_count": 12,
   "metadata": {},
   "outputs": [
    {
     "data": {
      "text/plain": [
       "'{\"kind\": \"UpdatePolicyEvent\", \"originator\": \"PolicyManagementBackend\", \"date\": 1621422717, \"customer\": {\"customerId\": \"kb9c50qyoy\", \"firstname\": \"Max\", \"lastname\": \"Mustermann\", \"birthday\": 631148400000, \"streetAddress\": \"Oberseestrasse 10\", \"postalCode\": \"8640\", \"city\": \"Rapperswil\", \"email\": \"admin@example.com\", \"phoneNumber\": \"055 222 4111\", \"moveHistory\": [], \"links\": [{\"rel\": \"self\", \"href\": \"http://localhost:8110/customers/rgpp0wkpec?fields=\"}, {\"rel\": \"address.change\", \"href\": \"http://localhost:8110/customers/rgpp0wkpec/address\"}]}, \"policy\": {\"policyId\": \"lagkgnvayj\", \"customer\": \"rgpp0wkpec\", \"creationDate\": 1618948272375, \"policyPeriod\": {\"startDate\": 1618956000000, \"endDate\": 1619215200000}, \"policyType\": \"Life Insurance\", \"deductible\": {\"amount\": 100, \"currency\": \"CHF\"}, \"policyLimit\": {\"amount\": 100000, \"currency\": \"CHF\"}, \"insurancePremium\": {\"amount\": 1000, \"currency\": \"CHF\"}, \"insuringAgreement\": {\"agreementItems\": []}, \"links\": [], \"_expandable\": [\"customer\"]}}'"
      ]
     },
     "execution_count": 12,
     "metadata": {},
     "output_type": "execute_result"
    }
   ],
   "source": [
    "all_events[0]"
   ]
  },
  {
   "cell_type": "markdown",
   "metadata": {},
   "source": [
    "# Insurance Quote Events"
   ]
  },
  {
   "cell_type": "code",
   "execution_count": 1,
   "metadata": {},
   "outputs": [],
   "source": [
    "policy_created_json = {\"date\": 1621422717, \"insuranceQuoteRequestId\": 12345678, \"policyId\": \"zuzqsziivh\", \"$type\": \"PolicyCreatedEvent\"}\n",
    "insurance_expired_json = {\"date\": 1621422717, \"insuranceQuoteRequestId\": 12345678, \"$type\": \"InsuranceQuoteExpiredEvent\"}"
   ]
  },
  {
   "cell_type": "code",
   "execution_count": 57,
   "metadata": {},
   "outputs": [],
   "source": [
    "min_policy_created = 0\n",
    "max_policy_created = 1\n",
    "min_insurance_expired = 0\n",
    "max_insurance_expired = 1\n",
    "\n",
    "number_of_insurances = 2000"
   ]
  },
  {
   "cell_type": "code",
   "execution_count": 58,
   "metadata": {},
   "outputs": [],
   "source": [
    "def insurance_jsons_with_id():\n",
    "    insurance_expired = insurance_expired_json.copy()\n",
    "    policy_created = policy_created_json.copy()\n",
    "    \n",
    "    insurance_quote_id = random.randint(10000000, 99999999)\n",
    "    insurance_expired['insuranceQuoteRequestId'] = insurance_quote_id\n",
    "    policy_created['insuranceQuoteRequestId'] = insurance_quote_id\n",
    "    \n",
    "    policy_id =  ''.join(random.choices(string.ascii_lowercase, k=10))\n",
    "    policy_created['policyId'] = policy_id\n",
    "\n",
    "    return insurance_expired, policy_created"
   ]
  },
  {
   "cell_type": "code",
   "execution_count": 59,
   "metadata": {},
   "outputs": [],
   "source": [
    "all_insurance_events = []\n",
    "for i in range(number_of_insurances):\n",
    "    insurance_expired, policy_created = insurance_jsons_with_id()\n",
    "    insurance_expired = [insurance_expired] * random.randint(min_insurance_expired, max_insurance_expired)\n",
    "    policy_created = [policy_created] * random.randint(min_insurance_expired, max_insurance_expired)\n",
    "    all_insurance_events += list(map(lambda x: json.dumps(x), insurance_expired)) + list(map(lambda x: json.dumps(x), policy_created))\n",
    "\n",
    "random.shuffle(all_insurance_events)"
   ]
  },
  {
   "cell_type": "code",
   "execution_count": 60,
   "metadata": {},
   "outputs": [
    {
     "data": {
      "text/plain": [
       "2028"
      ]
     },
     "execution_count": 60,
     "metadata": {},
     "output_type": "execute_result"
    }
   ],
   "source": [
    "len(all_insurance_events)"
   ]
  },
  {
   "cell_type": "code",
   "execution_count": 61,
   "metadata": {},
   "outputs": [],
   "source": [
    "with open('insurance-events.txt', 'w') as file:\n",
    "    for event in all_insurance_events:\n",
    "        file.write(str(uuid.uuid4()))\n",
    "        file.write(\" \")\n",
    "        event_json = json.loads(event)\n",
    "        file.write(str(event_json['insuranceQuoteRequestId']))\n",
    "        file.write(\" \")\n",
    "        file.write(event)\n",
    "        file.write('\\n')"
   ]
  },
  {
   "cell_type": "code",
   "execution_count": null,
   "metadata": {},
   "outputs": [],
   "source": []
  }
 ],
 "metadata": {
  "kernelspec": {
   "display_name": "Python 3",
   "language": "python",
   "name": "python3"
  },
  "language_info": {
   "codemirror_mode": {
    "name": "ipython",
    "version": 3
   },
   "file_extension": ".py",
   "mimetype": "text/x-python",
   "name": "python",
   "nbconvert_exporter": "python",
   "pygments_lexer": "ipython3",
   "version": "3.7.4"
  }
 },
 "nbformat": 4,
 "nbformat_minor": 2
}
